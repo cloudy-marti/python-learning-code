{
 "cells": [
  {
   "cell_type": "markdown",
   "metadata": {},
   "source": [
    "\n",
    "# M1 Informatique - Python (version python3)\n",
    "\n",
    "<h2 align=\"center\"><font color=\"red\"> Les notes de cours et les sujets de TD seront disponibles sur ma page personnelle\n",
    "<br><br><tt>http://igm.univ-mlv.fr/~jyt/M1_python/index.html</tt></font></h2>\n",
    "\n",
    "## Introduction\n",
    "\n",
    "\n",
    "Langage *interprété*, *orienté objet* et *dynamiquement typé*  pour \n",
    "\n",
    "- prototypage ou développement rapide \n",
    "- programmation web \n",
    "- contrôle de grandes applications \n",
    "- scripts, administration système\n",
    "- recherche et développement, calcul scientifique\n",
    "- sécurité informatique (et hacking)\n",
    "- et bien d'autres domaines ...\n",
    "\n",
    "- Extensible  (C/C++/Fortran ou Java)\n",
    "- Libre\n",
    "- Mature (depuis 1991, communauté nombreuse et dynamique)\n",
    "- Syntaxe concise, claire et cohérente\n",
    "\n",
    "Depuis quelques années, il est régulièrement classé comme le langage le plus populaire.\n",
    "\n"
   ]
  },
  {
   "cell_type": "markdown",
   "metadata": {},
   "source": [
    "### La version officielle: [CPython](https://www.python.org/)\n",
    "\n",
    "-  Comme son nom l'indique, écrit en C\n",
    "-  Extrêmement portable : Unix, Windows, MacOS, Android, iOS, systèmes embarqués\n",
    "-  Interprété/compilé (bytecode)\n",
    "-  Sûr (pas de pointeurs, gestion automatique de la mémoire)\n",
    "-  Nombreuses bibliothèques (réseau, bases de données, interfaces graphiques, son, vidéo ...)\n",
    "-  Extensible C/C++/Fortran (Cython)\n",
    "\n",
    "### Il existe une version en Java: JPython ou [Jython](http://www.jython.org/)\n",
    "\n",
    "-  Totalement intégré avec Java \n",
    "-  Compilation directe en bytecode Java\n",
    "-  Importation directe des classes Java\n",
    "-  Héritage depuis les classes Java\n",
    "-  Support des JavaBeans, des applettes, des servlettes\n",
    "-  Même langage mais différences actuellement dans les modules d'extension\n",
    "- Assez peu utilisée\n",
    "\n",
    "### Bref historique\n",
    "\n",
    "-  Première version en février 1991 (Guido van Rossum)\n",
    "-  Version 2.0 en 2000\n",
    "-  Aujourd'hui : version 2.7.18 (il n'y en aura plus d'autre)\n",
    "-  Fork : Version 3.0  en décembre 2008, (quelques incompatibilités avec les précédentes, 3.8 actuellement)\n",
    "-  Versions embarquées (téléphones portables : Nokia série 6, Palm , Android, iOS..) \n",
    "-  [Stackless Python](https://github.com/stackless-dev/stackless/wiki) (microthreads, pour faciliter la programmation concurrente)\n",
    "-  Autres implémentations : [IronPython](http://ironpython.net/) (.NET), [ActivePython](https://www.activestate.com/activepython), \n",
    "    [PyPy](https://pypy.org/) ...\n",
    "- Distributions avec paquetages préinstallés, comme [Anaconda](https://anaconda.org/anaconda/python)\n"
   ]
  },
  {
   "cell_type": "markdown",
   "metadata": {},
   "source": [
    "### Cours en  version 3, anciens cours et TD en version 2 disponibles\n",
    "\n",
    "Python 2.7 a été maintenu jusqu'en 2020. Il n'y aura pas de version 2.8.\n",
    "\n",
    "On n'utilse plus Python 2 pour de nouvaux projets. \n",
    "Malheureusement, il existe de très gros systèmes qui n'ont pas\n",
    "encore été migrés en Python 3 : il faut donc connaître les principales différences entre les versions.\n",
    "\n"
   ]
  },
  {
   "cell_type": "markdown",
   "metadata": {},
   "source": [
    "### Qui utilise Python ?\n",
    "\n",
    "-  Google (\"Python were we can, C++ where we must\")\n",
    "-  Yahoo \n",
    "-  Microsoft \n",
    "-  Les distributions de Linux : Red Hat, Ubuntu, ...\n",
    "-  la NASA\n",
    "-  EDF (code Aster)\n",
    "-  LibreOffice (depuis OpenOffice2.0),Vim, Mozilla ...\n",
    "-  Communauté scientifique (Sage ...)\n",
    "-  Et bien d'autres ...\n",
    "\n",
    "\n",
    "### Caractéristiques du langage\n",
    "\n",
    "-  Tout est un objet\n",
    "-  Modules, classes, fonctions\n",
    "-  Exceptions \n",
    "-  Typage dynamique, polymorphisme\n",
    "-  Surcharge des opérateurs \n",
    "-  Syntaxe claire et intuitive : mix C/Algol, indentation pour délimiter les blocs (pseudo-code exécutable)\n",
    "-  Supporte plusieurs styles de programmation : impératif, objet, fonctionnel ...\n",
    "\n",
    "    \n",
    "### Types de données\n",
    "\n",
    "-  Nombres: entiers, entiers (très) longs, réels, flottants, complexes\n",
    "-  Chaînes de caractères (immuables)\n",
    "-  Tuples, listes et dictionnaires (conteneurs) \n",
    "-  D'autres types natifs créés par des extensions en C (expressions régulières, descripteurs de fichiers, sockets...)\n",
    "-  Instances de classes définies en Python\n"
   ]
  },
  {
   "cell_type": "markdown",
   "metadata": {},
   "source": [
    "### Le code est compact et lisible\n",
    "Java :\n",
    "\n",
    "```java\n",
    "public class Hello {\n",
    "    public static void main(String[] args) {\n",
    "        System.out.println(\"Hello, World!\");\n",
    "    }\n",
    "}\n",
    "```\n",
    "\n",
    "Python 2 :\n",
    "```python\n",
    "print \"Hello, World!\" \n",
    "``` \n",
    "Python 3 :\n",
    "```python\n",
    "print (\"Hello, World!\")\n",
    "```\n"
   ]
  },
  {
   "cell_type": "markdown",
   "metadata": {},
   "source": [
    "### Exemple : QuickSort en deux lignes !"
   ]
  },
  {
   "cell_type": "code",
   "execution_count": 1,
   "metadata": {
    "collapsed": true
   },
   "outputs": [],
   "source": [
    "def q(L): \n",
    "  if len(L)<= 1: return L \n",
    "  return q([x for x in L[1:] if x<L[0]])+[L[0]]+q([y for y in L[1:] if y>=L[0]])"
   ]
  },
  {
   "cell_type": "code",
   "execution_count": 2,
   "metadata": {
    "collapsed": true
   },
   "outputs": [],
   "source": [
    "L = [78, 46, 63, 20, 53, 10, 26, 52, 41, 54, 81, 75, 49, 21, 80, 60, 58, 56, 86,40, 95, 92, 0, 4, 77, 12, 5, 59, 90, 57, 71, 3, \n",
    "     65, 27, 97, 89, 19, 38, 15, 85, 6, 62, 11, 33, 67, 61, 73, 44, 50, 17, 94, 48, 43, 34, 55, 24, 87, 70, 2, 16, 42, 25, 37, \n",
    "     68, 88, 30, 23, 7, 83, 74, 84, 39, 32, 98, 99, 22, 1, 45, 82, 69, 96, 31, 51, 91, 14, 13, 66, 36, 9, 18, 8, 79, 47, 72, 29, \n",
    "     76, 93, 64, 28, 35]"
   ]
  },
  {
   "cell_type": "code",
   "execution_count": 3,
   "metadata": {
    "collapsed": false
   },
   "outputs": [
    {
     "name": "stdout",
     "output_type": "stream",
     "text": [
      "[0, 1, 2, 3, 4, 5, 6, 7, 8, 9, 10, 11, 12, 13, 14, 15, 16, 17, 18, 19, 20, 21, 22, 23, 24, 25, 26, 27, 28, 29, 30, 31, 32, 33, 34, 35, 36, 37, 38, 39, 40, 41, 42, 43, 44, 45, 46, 47, 48, 49, 50, 51, 52, 53, 54, 55, 56, 57, 58, 59, 60, 61, 62, 63, 64, 65, 66, 67, 68, 69, 70, 71, 72, 73, 74, 75, 76, 77, 78, 79, 80, 81, 82, 83, 84, 85, 86, 87, 88, 89, 90, 91, 92, 93, 94, 95, 96, 97, 98, 99]\n"
     ]
    }
   ],
   "source": [
    "print(q(L))"
   ]
  },
  {
   "cell_type": "code",
   "execution_count": 4,
   "metadata": {
    "collapsed": false
   },
   "outputs": [
    {
     "name": "stdout",
     "output_type": "stream",
     "text": [
      "100\n"
     ]
    }
   ],
   "source": [
    "print(len(L)) # c'est la longueur de la liste"
   ]
  },
  {
   "cell_type": "code",
   "execution_count": 5,
   "metadata": {
    "collapsed": false
   },
   "outputs": [
    {
     "name": "stdout",
     "output_type": "stream",
     "text": [
      "78\n"
     ]
    }
   ],
   "source": [
    "print(L[0]) # les indices commencent à 0"
   ]
  },
  {
   "cell_type": "code",
   "execution_count": 6,
   "metadata": {
    "collapsed": false
   },
   "outputs": [
    {
     "name": "stdout",
     "output_type": "stream",
     "text": [
      "[28, 35]\n"
     ]
    }
   ],
   "source": [
    "print(L[98:]) # après 98 (inclus)"
   ]
  },
  {
   "cell_type": "code",
   "execution_count": 7,
   "metadata": {
    "collapsed": false
   },
   "outputs": [
    {
     "name": "stdout",
     "output_type": "stream",
     "text": [
      "[78, 46, 63]\n"
     ]
    }
   ],
   "source": [
    "print(L[:3]) # avant 3 (non inclus)"
   ]
  },
  {
   "cell_type": "code",
   "execution_count": 8,
   "metadata": {
    "collapsed": false
   },
   "outputs": [
    {
     "name": "stdout",
     "output_type": "stream",
     "text": [
      "[0, 4, 3, 2, 1]\n"
     ]
    }
   ],
   "source": [
    "print([x for x in L if x<5]) # Compréhension de liste"
   ]
  },
  {
   "cell_type": "code",
   "execution_count": 9,
   "metadata": {
    "collapsed": false
   },
   "outputs": [
    {
     "name": "stdout",
     "output_type": "stream",
     "text": [
      "[1, 2, 3, 4]\n"
     ]
    }
   ],
   "source": [
    "print([1,2]+[3,4]) # concaténation des listes"
   ]
  },
  {
   "cell_type": "markdown",
   "metadata": {},
   "source": [
    "Évidemment, ce n'est pas une implémentation efficace de QuickSort ! Mais ça permet de vérifier que l'algorithme donne un résultat correct. \n",
    "\n",
    "Le tri est implémenté très efficacement en Python \n",
    "([TimSort](https://fr.wikipedia.org/wiki/Timsort) - \n",
    "fonction <tt>sorted</tt>, ou méthode <tt>sort</tt> qui trie en place):"
   ]
  },
  {
   "cell_type": "code",
   "execution_count": 10,
   "metadata": {
    "collapsed": false
   },
   "outputs": [
    {
     "name": "stdout",
     "output_type": "stream",
     "text": [
      "[0, 1, 2, 3, 4, 5, 6, 7, 8, 9, 10, 11, 12, 13, 14, 15, 16, 17, 18, 19, 20, 21, 22, 23, 24, 25, 26, 27, 28, 29, 30, 31, 32, 33, 34, 35, 36, 37, 38, 39, 40, 41, 42, 43, 44, 45, 46, 47, 48, 49, 50, 51, 52, 53, 54, 55, 56, 57, 58, 59, 60, 61, 62, 63, 64, 65, 66, 67, 68, 69, 70, 71, 72, 73, 74, 75, 76, 77, 78, 79, 80, 81, 82, 83, 84, 85, 86, 87, 88, 89, 90, 91, 92, 93, 94, 95, 96, 97, 98, 99]\n"
     ]
    }
   ],
   "source": [
    "print(sorted(L))"
   ]
  },
  {
   "cell_type": "code",
   "execution_count": 11,
   "metadata": {
    "collapsed": true
   },
   "outputs": [],
   "source": [
    "L.sort()"
   ]
  },
  {
   "cell_type": "code",
   "execution_count": 12,
   "metadata": {
    "collapsed": false
   },
   "outputs": [
    {
     "name": "stdout",
     "output_type": "stream",
     "text": [
      "[0, 1, 2, 3, 4, 5, 6, 7, 8, 9, 10, 11, 12, 13, 14, 15, 16, 17, 18, 19, 20, 21, 22, 23, 24, 25, 26, 27, 28, 29, 30, 31, 32, 33, 34, 35, 36, 37, 38, 39, 40, 41, 42, 43, 44, 45, 46, 47, 48, 49, 50, 51, 52, 53, 54, 55, 56, 57, 58, 59, 60, 61, 62, 63, 64, 65, 66, 67, 68, 69, 70, 71, 72, 73, 74, 75, 76, 77, 78, 79, 80, 81, 82, 83, 84, 85, 86, 87, 88, 89, 90, 91, 92, 93, 94, 95, 96, 97, 98, 99]\n"
     ]
    }
   ],
   "source": [
    "print(L)"
   ]
  },
  {
   "cell_type": "markdown",
   "metadata": {},
   "source": [
    "# Premiers pas\n",
    "\n",
    "Python est un langage interprété, et *il est important d'apprendre à l'utiliser comme tel*.\n",
    "\n",
    "L'utilisation la plus basique consite à entrer la commande <tt>python</tt> dans un terminal.\n",
    "On rentre dans un interpréteur qu'on peut utiliser comme une calculette :\n",
    "\n",
    "```bash\n",
    "[jyt@scriabine ~]$ python\n",
    "Python 3.6.1 |Anaconda 4.4.0 (64-bit)| (default, May 11 2017, 13:09:58) \n",
    "[GCC 4.4.7 20120313 (Red Hat 4.4.7-1)] on linux\n",
    "Type \"help\", \"copyright\", \"credits\" or \"license\" for more information.\n",
    ">>> 2**100\n",
    "1267650600228229401496703205376\n",
    "```\n",
    "On peut aussi écrire des scripts. La première ligne doit être <tt>#!</tt> suivi du chemin vers l'interpréteur:\n",
    "\n",
    "```bash\n",
    "\n",
    "[jyt@scriabine jyt]$ cat a.py\n",
    "#!/usr/bin/python\n",
    "print (2**100)\n",
    "[jyt@scriabine ~]$ chmod +x a.py\n",
    "[jyt@scriabine ~]$ ./a.py\n",
    "1267650600228229401496703205376\n",
    "```\n",
    "\n",
    "On peut faire exécuter des fichiers \n",
    "```bash\n",
    "[jyt@scriabine ~]$ cat b.py\n",
    "print(2**100)\n",
    "[jyt@scriabine ~]$ python b.py\n",
    "1267650600228229401496703205376\n",
    "```\n",
    "ou encore, envoyer une commande à l'interpréteur depuis le shell\n",
    "```bash\n",
    "[jyt@scriabine ~]$ echo \"print (2**100)\"|python\n",
    "1267650600228229401496703205376\n",
    "```\n"
   ]
  },
  {
   "cell_type": "markdown",
   "metadata": {},
   "source": [
    "<b><i>Avec un langage interprété, on peut tester les instructions une à une\n",
    "avant de les incorporer dans le programme</i></b>\n",
    "\n",
    "On aura donc <span style=\"color:red\">.un  interpréteur de test dans une fenêtre, et un éditeur (vim, emacs, gedit ...)\n",
    "dans une autre</span> (éviter gedit).\n",
    "\n",
    "<h3><font color=\"red\">\n",
    "\n",
    "La fonction <tt>help</tt>(<i>objet</i>) affiche l'aide en ligne d'un objet\n",
    "<br><br>\n",
    "On peut accéder à la liste des attributs d'un objet avec la commande <tt>dir</tt></h3>\n",
    "\n",
    "\n"
   ]
  },
  {
   "cell_type": "code",
   "execution_count": 4,
   "metadata": {
    "collapsed": false
   },
   "outputs": [
    {
     "name": "stdout",
     "output_type": "stream",
     "text": [
      "Help on built-in function sorted in module builtins:\n",
      "\n",
      "sorted(iterable, /, *, key=None, reverse=False)\n",
      "    Return a new list containing all items from the iterable in ascending order.\n",
      "    \n",
      "    A custom key function can be supplied to customize the sort order, and the\n",
      "    reverse flag can be set to request the result in descending order.\n",
      "\n"
     ]
    }
   ],
   "source": [
    "help(sorted)"
   ]
  },
  {
   "cell_type": "markdown",
   "metadata": {},
   "source": [
    "Par exemple, on peut demander à une chaîne de caractères ce qu'elle sait faire. Le résultat est intéressant."
   ]
  },
  {
   "cell_type": "code",
   "execution_count": 14,
   "metadata": {
    "collapsed": false
   },
   "outputs": [
    {
     "name": "stdout",
     "output_type": "stream",
     "text": [
      "['__add__', '__class__', '__contains__', '__delattr__', '__dir__', '__doc__', '__eq__', '__format__', '__ge__', '__getattribute__', '__getitem__', '__getnewargs__', '__gt__', '__hash__', '__init__', '__init_subclass__', '__iter__', '__le__', '__len__', '__lt__', '__mod__', '__mul__', '__ne__', '__new__', '__reduce__', '__reduce_ex__', '__repr__', '__rmod__', '__rmul__', '__setattr__', '__sizeof__', '__str__', '__subclasshook__', 'capitalize', 'casefold', 'center', 'count', 'encode', 'endswith', 'expandtabs', 'find', 'format', 'format_map', 'index', 'isalnum', 'isalpha', 'isdecimal', 'isdigit', 'isidentifier', 'islower', 'isnumeric', 'isprintable', 'isspace', 'istitle', 'isupper', 'join', 'ljust', 'lower', 'lstrip', 'maketrans', 'partition', 'replace', 'rfind', 'rindex', 'rjust', 'rpartition', 'rsplit', 'rstrip', 'split', 'splitlines', 'startswith', 'strip', 'swapcase', 'title', 'translate', 'upper', 'zfill']\n"
     ]
    }
   ],
   "source": [
    "print (dir(\"toto\"))"
   ]
  },
  {
   "cell_type": "markdown",
   "metadata": {},
   "source": [
    "Les attributs `__xxx__`ne sont pas destinés à être utilisés directement. On peut les ignorer dans un premier temps."
   ]
  },
  {
   "cell_type": "code",
   "execution_count": 6,
   "metadata": {
    "collapsed": false
   },
   "outputs": [
    {
     "name": "stdout",
     "output_type": "stream",
     "text": [
      "Help on built-in function translate:\n",
      "\n",
      "translate(...) method of builtins.str instance\n",
      "    S.translate(table) -> str\n",
      "    \n",
      "    Return a copy of the string S in which each character has been mapped\n",
      "    through the given translation table. The table must implement\n",
      "    lookup/indexing via __getitem__, for instance a dictionary or list,\n",
      "    mapping Unicode ordinals to Unicode ordinals, strings, or None. If\n",
      "    this operation raises LookupError, the character is left untouched.\n",
      "    Characters mapped to None are deleted.\n",
      "\n"
     ]
    }
   ],
   "source": [
    "help(\"toto\".translate)"
   ]
  },
  {
   "cell_type": "markdown",
   "metadata": {},
   "source": [
    "\n",
    "### Environnements graphiques\n",
    "\n",
    "Pratique pour débuter : l'IDE <tt>idle</tt>, développé en pur Python à titre de démonstration, et fourni avec la distribution standard (à compiler avec tkInter, ou paquetage à installer).\n",
    "\n",
    "Le nec plus ultra: [jupyter](http://jupyter.org/), nouveau nom de iPython, avec son  notebook.\n",
    "C'est ce qu'on utilise ici, <b>et ce sera la norme pour les TP</b>.\n",
    "\n",
    "Il existe aussi un plugin Python (PyDev) pour Eclipse, et d'autres IDE du même genre (Eric).\n",
    "\n",
    "Pour ce cours et les suivants (cryptographie, combinatoire), leur emploi est déconseillé : l'objectif du cours n'est pas le développement logiciel, mais la résolution de problèmes en mode interactif.\n"
   ]
  },
  {
   "cell_type": "markdown",
   "metadata": {},
   "source": [
    "## Conventions\n",
    "\n",
    "Essentiellement comme en C : indices à partir de 0, = et ==, opérateurs arithmétiques +,-,/,*,**,  \"guillemets\" pour les chaînes,\n",
    "opérations bit à bit >>,<<,&,|. \n",
    "\n",
    "Par contre, les opérateurs logiques sont <tt>or</tt> et <tt>and</tt>, et les booleens sont <tt>True</tt> et <tt>False</tt>."
   ]
  },
  {
   "cell_type": "code",
   "execution_count": 7,
   "metadata": {
    "collapsed": false
   },
   "outputs": [
    {
     "name": "stdout",
     "output_type": "stream",
     "text": [
      "2 3 5 6 8 0.6666666666666666 0\n"
     ]
    }
   ],
   "source": [
    "a=2\n",
    "b=a+1\n",
    "print (a,b, a+b, a*b, a**b, a/b, a//b) # noter la différence avec python 2 : la division entière est a//b"
   ]
  },
  {
   "cell_type": "code",
   "execution_count": 8,
   "metadata": {
    "collapsed": false
   },
   "outputs": [
    {
     "data": {
      "text/plain": [
       "True"
      ]
     },
     "execution_count": 8,
     "metadata": {},
     "output_type": "execute_result"
    }
   ],
   "source": [
    "a<=4"
   ]
  },
  {
   "cell_type": "code",
   "execution_count": 9,
   "metadata": {
    "collapsed": false
   },
   "outputs": [
    {
     "data": {
      "text/plain": [
       "False"
      ]
     },
     "execution_count": 9,
     "metadata": {},
     "output_type": "execute_result"
    }
   ],
   "source": [
    "a>5 or b>3"
   ]
  },
  {
   "cell_type": "markdown",
   "metadata": {},
   "source": [
    "Il n'y a pas de pointeurs. Mais les variables sont des *références* à des objets. \n",
    "Si <tt>b = a</tt>, une modification de <tt> a</tt> peut affecter <tt>b</tt> :"
   ]
  },
  {
   "cell_type": "code",
   "execution_count": 10,
   "metadata": {
    "collapsed": false
   },
   "outputs": [
    {
     "name": "stdout",
     "output_type": "stream",
     "text": [
      "2\n"
     ]
    }
   ],
   "source": [
    "a=2\n",
    "b=a\n",
    "a=3\n",
    "print(b)"
   ]
  },
  {
   "cell_type": "markdown",
   "metadata": {},
   "source": [
    "Jusqu'ici, RAS. Mais avec des objets plus complexes ..."
   ]
  },
  {
   "cell_type": "code",
   "execution_count": 11,
   "metadata": {
    "collapsed": false
   },
   "outputs": [
    {
     "name": "stdout",
     "output_type": "stream",
     "text": [
      "[1, 5, 3]\n"
     ]
    }
   ],
   "source": [
    "a=[1,2,3]\n",
    "b=a\n",
    "a[1]=5\n",
    "print(b)"
   ]
  },
  {
   "cell_type": "markdown",
   "metadata": {},
   "source": [
    "On peut éviter ce problème avec le module [copy](https://docs.python.org/3/library/copy.html) et \n",
    "ses fonctions <tt>copy</tt> et <tt>deepcopy</tt>, qui permettent de réaliser \n",
    "des copies partielles ou totales d'un objet.\n",
    "\n",
    "On en a rarement besoin, il suffit généralement d'avoir conscience du problème."
   ]
  },
  {
   "cell_type": "code",
   "execution_count": 12,
   "metadata": {
    "collapsed": false
   },
   "outputs": [
    {
     "name": "stdout",
     "output_type": "stream",
     "text": [
      "y =  [1, 2, 3]\n",
      "x =  [1, 5, 3]\n",
      "y =  [1, 2, 3]\n"
     ]
    }
   ],
   "source": [
    "import copy\n",
    "x=[1,2,3]\n",
    "y=copy.copy(x)\n",
    "print ('y = ', y)\n",
    "x[1]=5\n",
    "print ('x = ', x)\n",
    "print ('y = ', y)"
   ]
  },
  {
   "cell_type": "code",
   "execution_count": 13,
   "metadata": {
    "collapsed": false
   },
   "outputs": [
    {
     "name": "stdout",
     "output_type": "stream",
     "text": [
      "u =  [6, [2, 3], 4]\n",
      "v =  [1, [2, 3], 4]\n",
      "u =  [6, [7, 3], 4]\n",
      "v =  [1, [7, 3], 4]\n"
     ]
    }
   ],
   "source": [
    "u=[1,[2,3],4]\n",
    "v=copy.copy(u)\n",
    "u[0]=6\n",
    "print ('u = ', u)\n",
    "print ('v = ', v)\n",
    "u[1][0]=7\n",
    "print ('u = ', u)\n",
    "print ('v = ', v)"
   ]
  },
  {
   "cell_type": "code",
   "execution_count": 14,
   "metadata": {
    "collapsed": false
   },
   "outputs": [
    {
     "name": "stdout",
     "output_type": "stream",
     "text": [
      "p =  [1, [2, [8, 4], 5], [6, 7]]\n",
      "q =  [1, [2, [3, 4], 5], [6, 7]]\n"
     ]
    }
   ],
   "source": [
    "p=[1, [2,[3,4],5], [6,7]]\n",
    "q=copy.deepcopy(p)\n",
    "p[1][1][0]=8\n",
    "print ('p = ', p)\n",
    "print ('q = ', q)"
   ]
  },
  {
   "cell_type": "markdown",
   "metadata": {},
   "source": [
    "## Blocs et indentation\n",
    "\n",
    "Pas d'accolades ou de <tt>begin/end</tt>. C'est *l'indentation* qui détermine la structure des blocs :"
   ]
  },
  {
   "cell_type": "code",
   "execution_count": 15,
   "metadata": {
    "collapsed": false
   },
   "outputs": [
    {
     "name": "stdout",
     "output_type": "stream",
     "text": [
      "48 0 49 1 50 2 51 3 52 4 53 5 54 6 55 7 56 8 57 9 65 A 66 B 67 C 68 D 69 E 70 F 71 G 72 H 73 I 74 J 75 K 76 L 77 M 78 N 79 O 80 P 81 Q 82 R 83 S 84 T 85 U 86 V 87 W 88 X 89 Y 90 Z 97 a 98 b 99 c 100 d 101 e 102 f 103 g 104 h 105 i 106 j 107 k 108 l 109 m 110 n 111 o 112 p 113 q 114 r 115 s 116 t 117 u 118 v 119 w 120 x 121 y 122 z 170 ª 178 ² 179 ³ 181 µ 185 ¹ 186 º 188 ¼ 189 ½ 190 ¾ 192 À 193 Á 194 Â 195 Ã 196 Ä 197 Å 198 Æ 199 Ç 200 È 201 É 202 Ê 203 Ë 204 Ì 205 Í 206 Î 207 Ï 208 Ð 209 Ñ 210 Ò 211 Ó 212 Ô 213 Õ 214 Ö 216 Ø 217 Ù 218 Ú 219 Û 220 Ü 221 Ý 222 Þ 223 ß 224 à 225 á 226 â 227 ã 228 ä 229 å 230 æ 231 ç 232 è 233 é 234 ê 235 ë 236 ì 237 í 238 î 239 ï 240 ð 241 ñ 242 ò 243 ó 244 ô 245 õ 246 ö 248 ø 249 ù 250 ú 251 û 252 ü 253 ý 254 þ 255 ÿ "
     ]
    }
   ],
   "source": [
    "for i in range(0,256):\n",
    "    if chr(i).isalnum():\n",
    "        print (i, chr(i), end=\" \")\n",
    "    else: pass\n",
    "    \n",
    "# Noter la différence avec python 2 : il y a des caractères alphanumériques après 127 ..."
   ]
  },
  {
   "cell_type": "markdown",
   "metadata": {},
   "source": [
    "Le point-virgule en fin de ligne est optionnel.\n",
    "On peut l'utiliser pour mettre plusieurs instructions par ligne :"
   ]
  },
  {
   "cell_type": "code",
   "execution_count": 23,
   "metadata": {
    "collapsed": false
   },
   "outputs": [
    {
     "name": "stdout",
     "output_type": "stream",
     "text": [
      "abracadabra\n"
     ]
    }
   ],
   "source": [
    "x='abra'; y='cadabra'; z=x+y; print (z)"
   ]
  },
  {
   "cell_type": "markdown",
   "metadata": {},
   "source": [
    "On peut utiliser des \\ pour continuer une instruction sur la ligne suivante :"
   ]
  },
  {
   "cell_type": "code",
   "execution_count": 24,
   "metadata": {
    "collapsed": false
   },
   "outputs": [
    {
     "name": "stdout",
     "output_type": "stream",
     "text": [
      "abracadabra\n"
     ]
    }
   ],
   "source": [
    "z ='abra' \\\n",
    "    +'cadabra'\n",
    "print(z)"
   ]
  },
  {
   "cell_type": "markdown",
   "metadata": {},
   "source": [
    "Il est parfois plus simple (et recommandé) d'utiliser des parenthèses :"
   ]
  },
  {
   "cell_type": "code",
   "execution_count": 25,
   "metadata": {
    "collapsed": false
   },
   "outputs": [
    {
     "name": "stdout",
     "output_type": "stream",
     "text": [
      "abracadabra\n"
     ]
    }
   ],
   "source": [
    "z = ('abra'\n",
    "    + \"cadabra\")\n",
    "print(z)"
   ]
  },
  {
   "cell_type": "markdown",
   "metadata": {},
   "source": [
    "On ne doit pas mélanger espaces et tabulations. La convention la plus\n",
    "répandue est d'indenter de 4 espaces. "
   ]
  },
  {
   "cell_type": "markdown",
   "metadata": {},
   "source": [
    "## Structures de contrôle\n",
    "\n",
    "### Les tests (conditionnelles) :  if-elif-else, while\n",
    "```python\n",
    "if condition: \n",
    "    faire_si_vrai()\n",
    "elif autre_condition: \n",
    "    faire_autre_truc()\n",
    "else: \n",
    "    faire_si_tout_faux()\n",
    "\n",
    "while condition: \n",
    "    iteration()\n",
    "    if fini: break     # sort de la boucle\n",
    "    if pouet: continue # saute ce qui suit\n",
    "    autre_chose()\n",
    "```\n",
    "<tt>condition</tt> n'est pas forcément un booléen <tt>True/False</tt>.\n",
    "\n",
    "En Python, tout objet est \"Vrai\" sauf <tt> False, 0, \"\", None, [], (), {}</tt>.\n",
    "\n",
    "On pourra donc écrire simplement \n",
    "<tt>if i</tt>\n",
    "au lieu de \n",
    "<tt>if i != 0</tt>.\n",
    "\n",
    "Les opérateurs booléens s'écrivent <tt>or, and, not</tt>.\n",
    "\n",
    "Le test d'égalité est <tt>a == b</tt>, et sa négation <tt>a != b</tt>.\n",
    "\n",
    "\n",
    "\n",
    "<br>Sémantique :\n",
    "<ul>\n",
    "<li><tt>x or y</tt> équivaut à <tt>si x alors x sinon y</tt>\n",
    "<li><tt>x and y</tt> équivaut à <tt> si x alors y sinon x</tt>\n",
    "</ul>\n",
    "\n",
    "Par exemple au lieu de\n",
    "```python\n",
    "if a !=0: x = 666/a\n",
    "else: x = 42\n",
    "```\n",
    "on peut écrire\n",
    "```python\n",
    "x = (a and 666/a) or 42 \n",
    "```\n",
    "\n",
    "On peut aussi combiner test et affectation :"
   ]
  },
  {
   "cell_type": "code",
   "execution_count": 28,
   "metadata": {
    "collapsed": false
   },
   "outputs": [
    {
     "data": {
      "text/plain": [
       "42"
      ]
     },
     "execution_count": 28,
     "metadata": {},
     "output_type": "execute_result"
    }
   ],
   "source": [
    "a = 0\n",
    "x = 5*a if a>0 else 42 # equivalent de x = (a>0) ? (5*a:42)\n",
    "x"
   ]
  },
  {
   "cell_type": "markdown",
   "metadata": {},
   "source": [
    "## Boucles et itérations\n",
    "\n",
    "Les itérations portent sur des listes, ou plus généralement\n",
    "sur des objets itérables : une seule syntaxe, <tt> for i in quelquechose:</tt>\n",
    "\n",
    "```python\n",
    "for element in liste:\n",
    "    manip(element) \n",
    "    if foo(element): break\n",
    "    if quux(element): continue\n",
    "    chose(element)\n",
    "```\n",
    "\n",
    "Pour itérer sur des entiers on engendre leur liste\n",
    "au moyen de la fonction <tt>range</tt>\n",
    "\n",
    "\n",
    "Syntaxe : <tt>range([debut=0],fin,[pas=1]</tt>\n"
   ]
  },
  {
   "cell_type": "code",
   "execution_count": 29,
   "metadata": {
    "collapsed": false
   },
   "outputs": [
    {
     "name": "stdout",
     "output_type": "stream",
     "text": [
      "range(2, 10)\n",
      "[2, 3, 4, 5, 6, 7, 8, 9]\n",
      "[0, 1, 2, 3, 4, 5, 6, 7, 8, 9]\n",
      "[0, 2, 4, 6, 8]\n",
      "[10, 9, 8, 7, 6, 5, 4, 3, 2, 1]\n"
     ]
    }
   ],
   "source": [
    "print (range(2,10)) # en python 3 c'est un itérateur\n",
    "print (list(range(2,10)))\n",
    "print (list(range(10)))\n",
    "print (list(range(0,10,2)))\n",
    "print (list(range(10,0,-1)))"
   ]
  },
  {
   "cell_type": "code",
   "execution_count": 30,
   "metadata": {
    "collapsed": false
   },
   "outputs": [
    {
     "name": "stdout",
     "output_type": "stream",
     "text": [
      "1, 3, 5, 7, 9, 11, 13, 15, 17, 19, "
     ]
    }
   ],
   "source": [
    "for i in range(10):\n",
    "    print (2*i+1, end = ', ')"
   ]
  },
  {
   "cell_type": "markdown",
   "metadata": {},
   "source": [
    "## Les types \n",
    "\n",
    "### Types numériques : entiers et flottants\n",
    "\n",
    "```python\n",
    ">>> 2+3*4\n",
    "14\n",
    ">>> 1<<8    \t# bit shift, aussi >>, &, |, ^ (XOR)\n",
    "256\n",
    ">>> 5**3\t# puissance 3\n",
    "125\n",
    ">>> 42%10\t# modulo 10\n",
    "2\n",
    ">>> 2**(1/12)\t\n",
    "1.0594630943592953\n",
    ">>> 2**200\t# entiers arbitrairement longs\n",
    "1606938044258990275541962092341162602522202993782792835301376L\n",
    "```"
   ]
  },
  {
   "cell_type": "markdown",
   "metadata": {},
   "source": [
    "On voit que Python supporte la multiprécision (utile pour la cryptographie, entre autres).\n",
    "\n",
    "\n",
    "Les fonctions mathématiques de base sont dans le module <tt>math</tt> :\n",
    "\n",
    "```python\n",
    ">>> import math\n",
    ">>> math.cos(math.pi/3)\n",
    "0.50000000000000011\n",
    "```\n",
    "\n",
    "On dispose de fonctions de conversion entre bases\n",
    "```python\n",
    "\n",
    ">>> int(\"1101101\",2)\n",
    "109\n",
    ">>> hex(_)\n",
    "'0x6d'\n",
    ">>> int(_,16) # la variable  _ contient le dernier résultat calculé\n",
    "109\n",
    ">>> bin(109)\n",
    "'0b1101101'\n",
    "```"
   ]
  },
  {
   "cell_type": "code",
   "execution_count": 31,
   "metadata": {
    "collapsed": false
   },
   "outputs": [
    {
     "data": {
      "text/plain": [
       "255"
      ]
     },
     "execution_count": 31,
     "metadata": {},
     "output_type": "execute_result"
    }
   ],
   "source": [
    "0xff # hexadécimal"
   ]
  },
  {
   "cell_type": "code",
   "execution_count": 32,
   "metadata": {
    "collapsed": false
   },
   "outputs": [
    {
     "data": {
      "text/plain": [
       "36"
      ]
     },
     "execution_count": 32,
     "metadata": {},
     "output_type": "execute_result"
    }
   ],
   "source": [
    "0o44 # octal"
   ]
  },
  {
   "cell_type": "code",
   "execution_count": 33,
   "metadata": {
    "collapsed": false
   },
   "outputs": [
    {
     "data": {
      "text/plain": [
       "13"
      ]
     },
     "execution_count": 33,
     "metadata": {},
     "output_type": "execute_result"
    }
   ],
   "source": [
    "0b1101 # binaire"
   ]
  },
  {
   "cell_type": "markdown",
   "metadata": {},
   "source": [
    "Pour les flottants en multiprécision, c'est le module [decimal](https://docs.python.org/3/library/decimal.html) qu'il faut\n",
    "utiliser :"
   ]
  },
  {
   "cell_type": "code",
   "execution_count": 26,
   "metadata": {
    "collapsed": false
   },
   "outputs": [
    {
     "data": {
      "text/plain": [
       "Context(prec=28, rounding=ROUND_HALF_EVEN, Emin=-999999, Emax=999999, capitals=1, clamp=0, flags=[], traps=[InvalidOperation, DivisionByZero, Overflow])"
      ]
     },
     "execution_count": 26,
     "metadata": {},
     "output_type": "execute_result"
    }
   ],
   "source": [
    "from decimal import *\n",
    "getcontext()"
   ]
  },
  {
   "cell_type": "code",
   "execution_count": 27,
   "metadata": {
    "collapsed": true
   },
   "outputs": [],
   "source": [
    "getcontext().prec = 200\n",
    "r = Decimal(2).sqrt() # racine carrée de 2"
   ]
  },
  {
   "cell_type": "code",
   "execution_count": 28,
   "metadata": {
    "collapsed": false
   },
   "outputs": [
    {
     "name": "stdout",
     "output_type": "stream",
     "text": [
      "1.4142135623730950488016887242096980785696718753769480731766797379907324784621070388503875343276415727350138462309122970249248360558507372126441214970999358314132226659275055927557999505011527820605715\n"
     ]
    }
   ],
   "source": [
    "print(r)"
   ]
  },
  {
   "cell_type": "code",
   "execution_count": 29,
   "metadata": {
    "collapsed": false
   },
   "outputs": [
    {
     "data": {
      "text/plain": [
       "Decimal('1.4142135623730950488016887242096980785696718753769480731766797379907324784621070388503875343276415727350138462309122970249248360558507372126441214970999358314132226659275055927557999505011527820605715')"
      ]
     },
     "execution_count": 29,
     "metadata": {},
     "output_type": "execute_result"
    }
   ],
   "source": [
    "r"
   ]
  },
  {
   "cell_type": "markdown",
   "metadata": {},
   "source": [
    "##  les chaînes\n",
    "\n",
    "On peut utiliser deux types de guillemets. <tt>'toto'</tt> et <tt>\"toto\"</tt>\n",
    "sont équivalentes. \n",
    "\n",
    "Permet d'écrire <tt>\"l'apostrophe\"</tt> ou <tt>'les \"guillemets\"'</tt>.\n",
    "\n",
    "Les triples guillemets <tt>\"\"\"...\"\"\"</tt> ou <tt> '''...'''</tt> permettent d'écrire\n",
    "sur plusieurs lignes. \n",
    "\n",
    "Une chaîne qui traîne au milieu d'un programme est vue comme un commentaire. \n",
    "\n",
    "Placées aux endroits idoines, elles permettent de générer automatiquement la documentation.\n",
    "Les autres commentaires commencent par un #."
   ]
  },
  {
   "cell_type": "code",
   "execution_count": 30,
   "metadata": {
    "collapsed": false
   },
   "outputs": [
    {
     "data": {
      "text/plain": [
       "True"
      ]
     },
     "execution_count": 30,
     "metadata": {},
     "output_type": "execute_result"
    }
   ],
   "source": [
    "a = 'toto'; b = \"toto\"\n",
    "a == b"
   ]
  },
  {
   "cell_type": "code",
   "execution_count": 31,
   "metadata": {
    "collapsed": true
   },
   "outputs": [],
   "source": [
    "def nothing():\n",
    "    '''Do nothing.\n",
    "    \n",
    "    Usage: nothing()'''\n",
    "    pass"
   ]
  },
  {
   "cell_type": "code",
   "execution_count": 32,
   "metadata": {
    "collapsed": false
   },
   "outputs": [
    {
     "name": "stdout",
     "output_type": "stream",
     "text": [
      "Help on function nothing in module __main__:\n",
      "\n",
      "nothing()\n",
      "    Do nothing.\n",
      "    \n",
      "    Usage: nothing()\n",
      "\n"
     ]
    }
   ],
   "source": [
    "help(nothing)"
   ]
  },
  {
   "cell_type": "markdown",
   "metadata": {},
   "source": [
    "L'opérateur de concaténation est le +, on peut aussi répéter une chaîne en la multipliant par un entier :"
   ]
  },
  {
   "cell_type": "code",
   "execution_count": 33,
   "metadata": {
    "collapsed": false
   },
   "outputs": [
    {
     "data": {
      "text/plain": [
       "'abracadabra'"
      ]
     },
     "execution_count": 33,
     "metadata": {},
     "output_type": "execute_result"
    }
   ],
   "source": [
    "'abra'+\"\"\"cadabra\"\"\""
   ]
  },
  {
   "cell_type": "code",
   "execution_count": 34,
   "metadata": {
    "collapsed": false
   },
   "outputs": [
    {
     "data": {
      "text/plain": [
       "'blablabla'"
      ]
     },
     "execution_count": 34,
     "metadata": {},
     "output_type": "execute_result"
    }
   ],
   "source": [
    "'bla'*3"
   ]
  },
  {
   "cell_type": "markdown",
   "metadata": {},
   "source": [
    "Le contenu des chaînes est accessible via une syntaxe de type tableau :"
   ]
  },
  {
   "cell_type": "code",
   "execution_count": 35,
   "metadata": {
    "collapsed": false
   },
   "outputs": [
    {
     "data": {
      "text/plain": [
       "'h'"
      ]
     },
     "execution_count": 35,
     "metadata": {},
     "output_type": "execute_result"
    }
   ],
   "source": [
    "s = 'shaviro rotantacha shamipataro robrulapatacha'\n",
    "s[1]"
   ]
  },
  {
   "cell_type": "code",
   "execution_count": 36,
   "metadata": {
    "collapsed": false
   },
   "outputs": [
    {
     "name": "stdout",
     "output_type": "stream",
     "text": [
      " rotanta\n",
      "saiortnah hmptr orlptca\n",
      "ahcatapalurbor oratapimahs ahcatnator orivahs\n",
      "sactao r\n",
      "a\n"
     ]
    }
   ],
   "source": [
    "print (s[7:15]) # une tranche\n",
    "print (s[::2])  # un caractère sur deux (:: signifie que début et fin sont les valeurs par défaut)\n",
    "print (s[::-1]) # retournée\n",
    "print (s[19:3:-2]) # de 19 à 2 par pas de 2\n",
    "print (s[-1]) # indices circulaires : -1 est le dernier"
   ]
  },
  {
   "cell_type": "markdown",
   "metadata": {},
   "source": [
    "A la différence des listes/tableaux, les chaînes sont *immuables* :"
   ]
  },
  {
   "cell_type": "code",
   "execution_count": 37,
   "metadata": {
    "collapsed": false
   },
   "outputs": [
    {
     "ename": "TypeError",
     "evalue": "'str' object does not support item assignment",
     "output_type": "error",
     "traceback": [
      "\u001b[0;31m---------------------------------------------------------------------------\u001b[0m",
      "\u001b[0;31mTypeError\u001b[0m                                 Traceback (most recent call last)",
      "\u001b[0;32m<ipython-input-37-b157954a8563>\u001b[0m in \u001b[0;36m<module>\u001b[0;34m()\u001b[0m\n\u001b[0;32m----> 1\u001b[0;31m \u001b[0ms\u001b[0m\u001b[0;34m[\u001b[0m\u001b[0;36m0\u001b[0m\u001b[0;34m]\u001b[0m \u001b[0;34m=\u001b[0m \u001b[0;34m'b'\u001b[0m\u001b[0;34m\u001b[0m\u001b[0m\n\u001b[0m",
      "\u001b[0;31mTypeError\u001b[0m: 'str' object does not support item assignment"
     ]
    }
   ],
   "source": [
    "s[0] = 'b'"
   ]
  },
  {
   "cell_type": "markdown",
   "metadata": {},
   "source": [
    "On dispose de nombreux outils pour construire des chaînes :"
   ]
  },
  {
   "cell_type": "code",
   "execution_count": 38,
   "metadata": {
    "collapsed": false
   },
   "outputs": [
    {
     "data": {
      "text/plain": [
       "'abcBLAdef4'"
      ]
     },
     "execution_count": 38,
     "metadata": {},
     "output_type": "execute_result"
    }
   ],
   "source": [
    "\"abc%sdef%d\" % (\"BLA\",4) # formatage style \"printf\""
   ]
  },
  {
   "cell_type": "code",
   "execution_count": 39,
   "metadata": {
    "collapsed": false
   },
   "outputs": [
    {
     "data": {
      "text/plain": [
       "'abcBLAsdef4'"
      ]
     },
     "execution_count": 39,
     "metadata": {},
     "output_type": "execute_result"
    }
   ],
   "source": [
    "\"abc{0:s}sdef{1:d}\".format(\"BLA\",4) # nouvelle syntaxe"
   ]
  },
  {
   "cell_type": "code",
   "execution_count": 40,
   "metadata": {
    "collapsed": false
   },
   "outputs": [
    {
     "data": {
      "text/plain": [
       "'0000A455'"
      ]
     },
     "execution_count": 40,
     "metadata": {},
     "output_type": "execute_result"
    }
   ],
   "source": [
    "\"%08X\" % 42069    # conversions de base (ici, hexa sur 8 caractères avec lettres majuscules)"
   ]
  },
  {
   "cell_type": "code",
   "execution_count": 41,
   "metadata": {
    "collapsed": false
   },
   "outputs": [
    {
     "data": {
      "text/plain": [
       "'12'"
      ]
     },
     "execution_count": 41,
     "metadata": {},
     "output_type": "execute_result"
    }
   ],
   "source": [
    "\"%%%s\" % \"d\" % 12 # On peut aussi écrire du code illisible (exercice : comprendre le résultat) "
   ]
  },
  {
   "cell_type": "markdown",
   "metadata": {},
   "source": [
    "Les chaines ont de nombreuses méthodes très pratiques (essayer <tt>dir('')</tt>)."
   ]
  },
  {
   "cell_type": "code",
   "execution_count": 42,
   "metadata": {
    "collapsed": false
   },
   "outputs": [
    {
     "name": "stdout",
     "output_type": "stream",
     "text": [
      "True\n",
      "4\n",
      "TOTO\n",
      "x yz\n",
      "True\n",
      "silaamilaec\n",
      "3\n"
     ]
    }
   ],
   "source": [
    "print (\"rac\" in \"abracadabra\") # équivaut à 'abracadabra'.__contains__('rac'))\n",
    "print (len(\"toto\"))  # équivaut à 'toto'.__len__())\n",
    "print (\"toto\".upper())\n",
    "print  (\"    \\t  x yz   \\n\".strip())\n",
    "print (\"albert\".startswith(\"al\"))\n",
    "print  (\"salamalec\".replace(\"al\",\"ila\"))\n",
    "print (\"l'an de l'ananas\".count(\"an\"))"
   ]
  },
  {
   "cell_type": "markdown",
   "metadata": {},
   "source": [
    "La plupart des objets peuvent être convertis en *strings* de deux manières. <tt>str(obj)</tt> est la chaîne affichée par <tt>print obj</tt>, et <tt>repr(obj)</tt> est celle affichée par l'interpréteur quand on entre <tt>obj</tt>. Si possible, <tt>repr</tt> renvoie une chaîne qui peut être reconvertie en objet par la fonction <tt>eval</tt>."
   ]
  },
  {
   "cell_type": "code",
   "execution_count": 43,
   "metadata": {
    "collapsed": false
   },
   "outputs": [
    {
     "data": {
      "text/plain": [
       "'1267650600228229401496703205376'"
      ]
     },
     "execution_count": 43,
     "metadata": {},
     "output_type": "execute_result"
    }
   ],
   "source": [
    "str(2**100)"
   ]
  },
  {
   "cell_type": "code",
   "execution_count": 44,
   "metadata": {
    "collapsed": false
   },
   "outputs": [
    {
     "data": {
      "text/plain": [
       "'1267650600228229401496703205376'"
      ]
     },
     "execution_count": 44,
     "metadata": {},
     "output_type": "execute_result"
    }
   ],
   "source": [
    "repr(2**100) # pareil en python 3"
   ]
  },
  {
   "cell_type": "code",
   "execution_count": 45,
   "metadata": {
    "collapsed": false
   },
   "outputs": [
    {
     "data": {
      "text/plain": [
       "1267650600228229401496703205376"
      ]
     },
     "execution_count": 45,
     "metadata": {},
     "output_type": "execute_result"
    }
   ],
   "source": [
    "eval(_)"
   ]
  },
  {
   "cell_type": "markdown",
   "metadata": {},
   "source": [
    "Le module [string](https://docs.python.org/fr/3/library/string.html#module-string) offre quelques fonctionalités supplémentaires\n",
    "(pour la plupart obsolètes, voir cependant <tt>maketrans</tt> et <tt>translate</tt>,\n",
    "ainsi que les chaines <tt>punctuation, whitespace</tt>, ...).\n",
    "\n",
    "\n",
    "La gestion des encodages a été une des pricipales motivations pour python 3."
   ]
  },
  {
   "cell_type": "code",
   "execution_count": 46,
   "metadata": {
    "collapsed": true
   },
   "outputs": [],
   "source": [
    "s = '我的表弟的马只在周日吃了干草' # copié-collé depuis une page en utf-8"
   ]
  },
  {
   "cell_type": "code",
   "execution_count": 47,
   "metadata": {
    "collapsed": false
   },
   "outputs": [
    {
     "data": {
      "text/plain": [
       "'我的表弟的马只在周日吃了干草'"
      ]
     },
     "execution_count": 47,
     "metadata": {},
     "output_type": "execute_result"
    }
   ],
   "source": [
    "s"
   ]
  },
  {
   "cell_type": "code",
   "execution_count": 48,
   "metadata": {
    "collapsed": false
   },
   "outputs": [
    {
     "ename": "AttributeError",
     "evalue": "'str' object has no attribute 'decode'",
     "output_type": "error",
     "traceback": [
      "\u001b[0;31m---------------------------------------------------------------------------\u001b[0m",
      "\u001b[0;31mAttributeError\u001b[0m                            Traceback (most recent call last)",
      "\u001b[0;32m<ipython-input-48-248755da313e>\u001b[0m in \u001b[0;36m<module>\u001b[0;34m()\u001b[0m\n\u001b[0;32m----> 1\u001b[0;31m \u001b[0ms\u001b[0m\u001b[0;34m.\u001b[0m\u001b[0mdecode\u001b[0m\u001b[0;34m(\u001b[0m\u001b[0;34m'utf8'\u001b[0m\u001b[0;34m)\u001b[0m \u001b[0;31m# toutes les chaînes sont en unicode\u001b[0m\u001b[0;34m\u001b[0m\u001b[0m\n\u001b[0m",
      "\u001b[0;31mAttributeError\u001b[0m: 'str' object has no attribute 'decode'"
     ]
    }
   ],
   "source": [
    "s.decode('utf8') # toutes les chaînes sont en unicode"
   ]
  },
  {
   "cell_type": "code",
   "execution_count": 49,
   "metadata": {
    "collapsed": false
   },
   "outputs": [
    {
     "data": {
      "text/plain": [
       "b'\\xe6\\x88\\x91\\xe7\\x9a\\x84\\xe8\\xa1\\xa8\\xe5\\xbc\\x9f\\xe7\\x9a\\x84\\xe9\\xa9\\xac\\xe5\\x8f\\xaa\\xe5\\x9c\\xa8\\xe5\\x91\\xa8\\xe6\\x97\\xa5\\xe5\\x90\\x83\\xe4\\xba\\x86\\xe5\\xb9\\xb2\\xe8\\x8d\\x89'"
      ]
     },
     "execution_count": 49,
     "metadata": {},
     "output_type": "execute_result"
    }
   ],
   "source": [
    "s.encode('utf8') # on peut donc les réencoder directement"
   ]
  },
  {
   "cell_type": "code",
   "execution_count": 50,
   "metadata": {
    "collapsed": false
   },
   "outputs": [
    {
     "data": {
      "text/plain": [
       "'我的表弟的马只在周日吃了干草'"
      ]
     },
     "execution_count": 50,
     "metadata": {},
     "output_type": "execute_result"
    }
   ],
   "source": [
    "_.decode('utf8') # 'b' signifie 'bytes'"
   ]
  },
  {
   "cell_type": "code",
   "execution_count": 51,
   "metadata": {
    "collapsed": false,
    "scrolled": true
   },
   "outputs": [
    {
     "data": {
      "text/plain": [
       "b'5oiR55qE6KGo5byf55qE6ams5Y+q5Zyo5ZGo5pel5ZCD5LqG5bmy6I2J\\n'"
      ]
     },
     "execution_count": 51,
     "metadata": {},
     "output_type": "execute_result"
    }
   ],
   "source": [
    "import codecs # là encore, c'est différent du python 2\n",
    "codecs.encode(s.encode('utf8'),'base64')"
   ]
  },
  {
   "cell_type": "code",
   "execution_count": 52,
   "metadata": {
    "collapsed": false
   },
   "outputs": [
    {
     "data": {
      "text/plain": [
       "b'e68891e79a84e8a1a8e5bc9fe79a84e9a9ace58faae59ca8e591a8e697a5e59083e4ba86e5b9b2e88d89'"
      ]
     },
     "execution_count": 52,
     "metadata": {},
     "output_type": "execute_result"
    }
   ],
   "source": [
    "codecs.encode(s.encode('utf8'),'hex')"
   ]
  },
  {
   "cell_type": "code",
   "execution_count": 53,
   "metadata": {
    "collapsed": false
   },
   "outputs": [
    {
     "data": {
      "text/plain": [
       "'我'"
      ]
     },
     "execution_count": 53,
     "metadata": {},
     "output_type": "execute_result"
    }
   ],
   "source": [
    "s[0]"
   ]
  },
  {
   "cell_type": "markdown",
   "metadata": {},
   "source": [
    "## Listes et tuples\n",
    "### listes\n",
    "En Python, liste=tableau. Les indices commencent à 0. On crée une liste en indiquant ses éléments entre [], séparés par des virgules.\n",
    "\n",
    "On accède aux éléments et aux tranches par la syntaxe déjà vue dans le cas des chaînes."
   ]
  },
  {
   "cell_type": "code",
   "execution_count": 54,
   "metadata": {
    "collapsed": false
   },
   "outputs": [
    {
     "name": "stdout",
     "output_type": "stream",
     "text": [
      "toto\n",
      "['ga', 'bu', 'zo', 'meu']\n"
     ]
    }
   ],
   "source": [
    "ll = ['toto', 42, ['ga', 'bu', 'zo', 'meu'], 999] # Une liste peut contenir n'importe quoi\n",
    "print (ll[0])\n",
    "print (ll[2])"
   ]
  },
  {
   "cell_type": "code",
   "execution_count": 55,
   "metadata": {
    "collapsed": false
   },
   "outputs": [
    {
     "name": "stdout",
     "output_type": "stream",
     "text": [
      "meu\n"
     ]
    }
   ],
   "source": [
    "print (ll[2][-1])"
   ]
  },
  {
   "cell_type": "code",
   "execution_count": 56,
   "metadata": {
    "collapsed": false
   },
   "outputs": [
    {
     "data": {
      "text/plain": [
       "['toto', 42, ['ga', 'bu', 'zo', 'meu'], 999, 'foo']"
      ]
     },
     "execution_count": 56,
     "metadata": {},
     "output_type": "execute_result"
    }
   ],
   "source": [
    "ll.append('foo') # la méthode append insère un élément à la fin\n",
    "ll"
   ]
  },
  {
   "cell_type": "code",
   "execution_count": 57,
   "metadata": {
    "collapsed": false
   },
   "outputs": [
    {
     "data": {
      "text/plain": [
       "'foo'"
      ]
     },
     "execution_count": 57,
     "metadata": {},
     "output_type": "execute_result"
    }
   ],
   "source": [
    "ll.pop() # et pop() le dépile"
   ]
  },
  {
   "cell_type": "code",
   "execution_count": 58,
   "metadata": {
    "collapsed": false
   },
   "outputs": [
    {
     "data": {
      "text/plain": [
       "['toto', 42, ['ga', 'bu', 'zo', 'meu'], 999]"
      ]
     },
     "execution_count": 58,
     "metadata": {},
     "output_type": "execute_result"
    }
   ],
   "source": [
    "ll"
   ]
  },
  {
   "cell_type": "code",
   "execution_count": 59,
   "metadata": {
    "collapsed": false
   },
   "outputs": [
    {
     "data": {
      "text/plain": [
       "[1, 2, 3, 4, 5, 6]"
      ]
     },
     "execution_count": 59,
     "metadata": {},
     "output_type": "execute_result"
    }
   ],
   "source": [
    "mm = [1,2,3]; nn = [4,5,6] # concaténation avec +\n",
    "mm+nn"
   ]
  },
  {
   "cell_type": "code",
   "execution_count": 60,
   "metadata": {
    "collapsed": false
   },
   "outputs": [
    {
     "data": {
      "text/plain": [
       "[1, 2, 3, 1, 2, 3, 1, 2, 3]"
      ]
     },
     "execution_count": 60,
     "metadata": {},
     "output_type": "execute_result"
    }
   ],
   "source": [
    "mm*3 # répétition"
   ]
  },
  {
   "cell_type": "code",
   "execution_count": 61,
   "metadata": {
    "collapsed": true
   },
   "outputs": [],
   "source": [
    "mm.extend(nn) # plus efficace"
   ]
  },
  {
   "cell_type": "code",
   "execution_count": 62,
   "metadata": {
    "collapsed": false
   },
   "outputs": [
    {
     "data": {
      "text/plain": [
       "[1, 2, 3, 4, 5, 6]"
      ]
     },
     "execution_count": 62,
     "metadata": {},
     "output_type": "execute_result"
    }
   ],
   "source": [
    "mm"
   ]
  },
  {
   "cell_type": "code",
   "execution_count": 63,
   "metadata": {
    "collapsed": false
   },
   "outputs": [
    {
     "data": {
      "text/plain": [
       "True"
      ]
     },
     "execution_count": 63,
     "metadata": {},
     "output_type": "execute_result"
    }
   ],
   "source": [
    "42 in ll # test de présence"
   ]
  },
  {
   "cell_type": "code",
   "execution_count": 64,
   "metadata": {
    "collapsed": false
   },
   "outputs": [
    {
     "data": {
      "text/plain": [
       "['toto', 42, ['ga', 'bu', 'zo', 'meu'], 'bla']"
      ]
     },
     "execution_count": 64,
     "metadata": {},
     "output_type": "execute_result"
    }
   ],
   "source": [
    "ll[-1] = 'bla' # les listes sont mutables\n",
    "ll"
   ]
  },
  {
   "cell_type": "code",
   "execution_count": 65,
   "metadata": {
    "collapsed": false
   },
   "outputs": [
    {
     "data": {
      "text/plain": [
       "['toto', 42, ['bu', 'ga', 'meu', 'zo'], 'bla']"
      ]
     },
     "execution_count": 65,
     "metadata": {},
     "output_type": "execute_result"
    }
   ],
   "source": [
    "ll[2].sort() # même à l'intérieur d'un objet\n",
    "ll"
   ]
  },
  {
   "cell_type": "code",
   "execution_count": 66,
   "metadata": {
    "collapsed": false
   },
   "outputs": [
    {
     "data": {
      "text/plain": [
       "['toto', 42, 'bla']"
      ]
     },
     "execution_count": 66,
     "metadata": {},
     "output_type": "execute_result"
    }
   ],
   "source": [
    "del(ll[2]) # on peut détruire n'importe quelle entrée\n",
    "ll"
   ]
  },
  {
   "cell_type": "code",
   "execution_count": 67,
   "metadata": {
    "collapsed": false
   },
   "outputs": [
    {
     "data": {
      "text/plain": [
       "['bla', 42, 'toto']"
      ]
     },
     "execution_count": 67,
     "metadata": {},
     "output_type": "execute_result"
    }
   ],
   "source": [
    "ll.reverse() # renverser la liste en place\n",
    "ll"
   ]
  },
  {
   "cell_type": "code",
   "execution_count": 68,
   "metadata": {
    "collapsed": false
   },
   "outputs": [
    {
     "data": {
      "text/plain": [
       "['a', 'b', 'r', 'a', 'c', 'a', 'd', 'a', 'b', 'r', 'a']"
      ]
     },
     "execution_count": 68,
     "metadata": {},
     "output_type": "execute_result"
    }
   ],
   "source": [
    "s = 'abracadabra' # Les chaînes peuvent être converties en listes de caractères\n",
    "list(s)"
   ]
  },
  {
   "cell_type": "code",
   "execution_count": 69,
   "metadata": {
    "collapsed": false
   },
   "outputs": [
    {
     "data": {
      "text/plain": [
       "'a b r a c a d a b r a'"
      ]
     },
     "execution_count": 69,
     "metadata": {},
     "output_type": "execute_result"
    }
   ],
   "source": [
    "' '.join(_) # méthode join de la chaine ' ' (espace)"
   ]
  },
  {
   "cell_type": "code",
   "execution_count": 70,
   "metadata": {
    "collapsed": false
   },
   "outputs": [
    {
     "name": "stdout",
     "output_type": "stream",
     "text": [
      "['Il', 'est', 'plus', 'facile', 'de', 'se', 'laver', 'les', 'dents', 'dans', 'un', 'verre', 'à', 'pied', 'que', 'de', 'se', 'laver', 'les', 'pieds', 'dans', 'un', 'verre', 'à', 'dents']\n"
     ]
    }
   ],
   "source": [
    "t = 'Il est plus facile de se laver les dents dans un verre à pied que de se laver les pieds dans un verre à dents'\n",
    "tt = t.split() # par défaut, coupe selon les espaces et autres blancs\n",
    "print (tt)"
   ]
  },
  {
   "cell_type": "markdown",
   "metadata": {},
   "source": [
    "### tuples\n",
    "\n",
    "Les tuples sont comme des listes, mais immuables. Ils sont délimités par des parenthèses.\n",
    "\n",
    "Le tuple vide est (), celui à un élément x est (x,). La virgule crée automatiquement un tuple."
   ]
  },
  {
   "cell_type": "code",
   "execution_count": 71,
   "metadata": {
    "collapsed": false
   },
   "outputs": [
    {
     "data": {
      "text/plain": [
       "(1, 2, 3)"
      ]
     },
     "execution_count": 71,
     "metadata": {},
     "output_type": "execute_result"
    }
   ],
   "source": [
    "t = 1,2,3\n",
    "t"
   ]
  },
  {
   "cell_type": "code",
   "execution_count": 72,
   "metadata": {
    "collapsed": false
   },
   "outputs": [
    {
     "ename": "TypeError",
     "evalue": "'tuple' object does not support item assignment",
     "output_type": "error",
     "traceback": [
      "\u001b[0;31m---------------------------------------------------------------------------\u001b[0m",
      "\u001b[0;31mTypeError\u001b[0m                                 Traceback (most recent call last)",
      "\u001b[0;32m<ipython-input-72-a1f3206a315a>\u001b[0m in \u001b[0;36m<module>\u001b[0;34m()\u001b[0m\n\u001b[0;32m----> 1\u001b[0;31m \u001b[0mt\u001b[0m\u001b[0;34m[\u001b[0m\u001b[0;36m0\u001b[0m\u001b[0;34m]\u001b[0m\u001b[0;34m=\u001b[0m\u001b[0;36m7\u001b[0m\u001b[0;34m\u001b[0m\u001b[0m\n\u001b[0m",
      "\u001b[0;31mTypeError\u001b[0m: 'tuple' object does not support item assignment"
     ]
    }
   ],
   "source": [
    "t[0]=7"
   ]
  },
  {
   "cell_type": "code",
   "execution_count": 73,
   "metadata": {
    "collapsed": false
   },
   "outputs": [
    {
     "data": {
      "text/plain": [
       "('a', 'b', 'r', 'a', 'c', 'a', 'd', 'a', 'b', 'r', 'a')"
      ]
     },
     "execution_count": 73,
     "metadata": {},
     "output_type": "execute_result"
    }
   ],
   "source": [
    "tuple('abracadabra')"
   ]
  },
  {
   "cell_type": "code",
   "execution_count": 74,
   "metadata": {
    "collapsed": false
   },
   "outputs": [
    {
     "data": {
      "text/plain": [
       "()"
      ]
     },
     "execution_count": 74,
     "metadata": {},
     "output_type": "execute_result"
    }
   ],
   "source": [
    "vide =()\n",
    "vide"
   ]
  },
  {
   "cell_type": "code",
   "execution_count": 75,
   "metadata": {
    "collapsed": false
   },
   "outputs": [
    {
     "data": {
      "text/plain": [
       "(42,)"
      ]
     },
     "execution_count": 75,
     "metadata": {},
     "output_type": "execute_result"
    }
   ],
   "source": [
    "singleton=(42,)\n",
    "singleton"
   ]
  },
  {
   "cell_type": "code",
   "execution_count": 76,
   "metadata": {
    "collapsed": false
   },
   "outputs": [
    {
     "data": {
      "text/plain": [
       "42"
      ]
     },
     "execution_count": 76,
     "metadata": {},
     "output_type": "execute_result"
    }
   ],
   "source": [
    "(42)"
   ]
  },
  {
   "cell_type": "code",
   "execution_count": 77,
   "metadata": {
    "collapsed": false
   },
   "outputs": [
    {
     "data": {
      "text/plain": [
       "[]"
      ]
     },
     "execution_count": 77,
     "metadata": {},
     "output_type": "execute_result"
    }
   ],
   "source": [
    "list(vide)"
   ]
  },
  {
   "cell_type": "code",
   "execution_count": 78,
   "metadata": {
    "collapsed": false
   },
   "outputs": [
    {
     "data": {
      "text/plain": [
       "[42]"
      ]
     },
     "execution_count": 78,
     "metadata": {},
     "output_type": "execute_result"
    }
   ],
   "source": [
    "list(singleton)"
   ]
  },
  {
   "cell_type": "code",
   "execution_count": 79,
   "metadata": {
    "collapsed": false
   },
   "outputs": [
    {
     "name": "stdout",
     "output_type": "stream",
     "text": [
      "2 7\n",
      "7 2\n"
     ]
    }
   ],
   "source": [
    "a = 2; b= 7\n",
    "print (a,b)\n",
    "a,b = b,a # echange en une instruction\n",
    "print (a,b)"
   ]
  },
  {
   "cell_type": "markdown",
   "metadata": {},
   "source": [
    "## Dictionnaires\n",
    "\n",
    "Les dictionnaires sont des tables de hachage, implémentées de manière très efficace.\n",
    "\n",
    "Un dictionnaire est défini par des couples <tt>clef:valeur</tt> entre accolades.\n",
    "    \n",
    "Pour pouvoir être hachées, les clefs doivent être immuables : entiers, chaînes, tuples ..."
   ]
  },
  {
   "cell_type": "code",
   "execution_count": 80,
   "metadata": {
    "collapsed": false
   },
   "outputs": [
    {
     "data": {
      "text/plain": [
       "[4, 2, {False: 'faux'}]"
      ]
     },
     "execution_count": 80,
     "metadata": {},
     "output_type": "execute_result"
    }
   ],
   "source": [
    "bazar = {\"e\": 2.71828, \"jaune\": (255,255,0), \"vrai\": True, 10: \"dix\", \"liste\": [4, 2, {False: \"faux\"}], (0,0):\"origine\"}\n",
    "\n",
    "bazar[\"liste\"]  "
   ]
  },
  {
   "cell_type": "code",
   "execution_count": 81,
   "metadata": {
    "collapsed": false
   },
   "outputs": [
    {
     "data": {
      "text/plain": [
       "dict_keys(['e', 'jaune', 'vrai', 10, 'liste', (0, 0)])"
      ]
     },
     "execution_count": 81,
     "metadata": {},
     "output_type": "execute_result"
    }
   ],
   "source": [
    "bazar.keys() # noter la différence avec python 2"
   ]
  },
  {
   "cell_type": "code",
   "execution_count": 82,
   "metadata": {
    "collapsed": false
   },
   "outputs": [
    {
     "data": {
      "text/plain": [
       "dict_keys"
      ]
     },
     "execution_count": 82,
     "metadata": {},
     "output_type": "execute_result"
    }
   ],
   "source": [
    "type(_)"
   ]
  },
  {
   "cell_type": "code",
   "execution_count": 83,
   "metadata": {
    "collapsed": false
   },
   "outputs": [
    {
     "data": {
      "text/plain": [
       "dict_items([('e', 2.71828), ('jaune', (255, 255, 0)), ('vrai', True), (10, 'dix'), ('liste', [4, 2, {False: 'faux'}]), ((0, 0), 'origine')])"
      ]
     },
     "execution_count": 83,
     "metadata": {},
     "output_type": "execute_result"
    }
   ],
   "source": [
    "bazar.items()"
   ]
  },
  {
   "cell_type": "code",
   "execution_count": 84,
   "metadata": {
    "collapsed": false
   },
   "outputs": [
    {
     "data": {
      "text/plain": [
       "{1: 'un', 2: 'deux'}"
      ]
     },
     "execution_count": 84,
     "metadata": {},
     "output_type": "execute_result"
    }
   ],
   "source": [
    "d = dict([(1,\"un\"), (2,\"deux\")]) # On peut créer un dictionnaire avec une liste de couples\n",
    "d"
   ]
  },
  {
   "cell_type": "code",
   "execution_count": 85,
   "metadata": {
    "collapsed": false
   },
   "outputs": [
    {
     "name": "stdout",
     "output_type": "stream",
     "text": [
      "1 2 "
     ]
    }
   ],
   "source": [
    "for k in d: print (k, end = ' ') # on itère sur les clefs"
   ]
  },
  {
   "cell_type": "code",
   "execution_count": 86,
   "metadata": {
    "collapsed": false
   },
   "outputs": [
    {
     "name": "stdout",
     "output_type": "stream",
     "text": [
      "{'e': 2.71828, 'jaune': (255, 255, 0), 'vrai': True, 10: 'dix', (0, 0): 'origine'}\n"
     ]
    }
   ],
   "source": [
    "del bazar[\"liste\"]\n",
    "print (bazar)"
   ]
  },
  {
   "cell_type": "code",
   "execution_count": 87,
   "metadata": {
    "collapsed": false
   },
   "outputs": [
    {
     "data": {
      "text/plain": [
       "\"Je m'appelle Toto et j'ai 7 ans\""
      ]
     },
     "execution_count": 87,
     "metadata": {},
     "output_type": "execute_result"
    }
   ],
   "source": [
    "fiche = {'nom':'Toto', 'age':7} # On peut utiliser un dictionnaire pour formater avec %\n",
    "\"Je m'appelle %(nom)s et j'ai %(age)d ans\" % fiche"
   ]
  },
  {
   "cell_type": "code",
   "execution_count": 88,
   "metadata": {
    "collapsed": false
   },
   "outputs": [
    {
     "name": "stdout",
     "output_type": "stream",
     "text": [
      "{'l': 3, 'e': 8, ' ': 11, 'c': 3, 'h': 2, 'v': 1, 'a': 3, 'd': 3, 'm': 3, 'o': 3, 'n': 6, 'u': 3, 's': 1, 'i': 3, 'g': 1, 'f': 1, 'q': 1}\n"
     ]
    }
   ],
   "source": [
    "s = \"le cheval de mon cousin ne mange du foin que le dimanche\"\n",
    "# Pour compter le nombre d'occurences de chaque caractère (et on peut faire encore plus compact)\n",
    "d = {}\n",
    "for c in s:\n",
    "    if c in d: d[c] +=1\n",
    "    else: d[c] = 1\n",
    "print (d)"
   ]
  },
  {
   "cell_type": "code",
   "execution_count": 89,
   "metadata": {
    "collapsed": false
   },
   "outputs": [
    {
     "name": "stdout",
     "output_type": "stream",
     "text": [
      "{'l': 3, ' ': 11, 'c': 3, 'e': 8, 'n': 6, 'o': 3, 'i': 3, 'a': 3, 'm': 3, 'h': 2, 'f': 1, 'd': 3, 'v': 1, 'g': 1, 'u': 3, 'q': 1, 's': 1}\n"
     ]
    }
   ],
   "source": [
    "# La version plus compacte nous amène aux sujets suivants\n",
    "print ({c:s.count(c) for c in set(s)})"
   ]
  },
  {
   "cell_type": "markdown",
   "metadata": {},
   "source": [
    "### Ensembles (sets)\n",
    "\n",
    "Un ensemble, c'est un dictionnaire dont les clefs n'ont pas de valeur :"
   ]
  },
  {
   "cell_type": "code",
   "execution_count": 90,
   "metadata": {
    "collapsed": false
   },
   "outputs": [
    {
     "data": {
      "text/plain": [
       "{2, 3, 5, 7, 11, 13, 17, 19, 23}"
      ]
     },
     "execution_count": 90,
     "metadata": {},
     "output_type": "execute_result"
    }
   ],
   "source": [
    "E = {2,3,5,7,11,13}\n",
    "F = {5,7,17,19,23}\n",
    "E.union(F)"
   ]
  },
  {
   "cell_type": "code",
   "execution_count": 91,
   "metadata": {
    "collapsed": false
   },
   "outputs": [
    {
     "data": {
      "text/plain": [
       "{5, 7}"
      ]
     },
     "execution_count": 91,
     "metadata": {},
     "output_type": "execute_result"
    }
   ],
   "source": [
    "E.intersection(F)"
   ]
  },
  {
   "cell_type": "code",
   "execution_count": 92,
   "metadata": {
    "collapsed": false
   },
   "outputs": [
    {
     "data": {
      "text/plain": [
       "{17, 19, 23}"
      ]
     },
     "execution_count": 92,
     "metadata": {},
     "output_type": "execute_result"
    }
   ],
   "source": [
    "F.difference(E)"
   ]
  },
  {
   "cell_type": "code",
   "execution_count": 93,
   "metadata": {
    "collapsed": false
   },
   "outputs": [
    {
     "name": "stdout",
     "output_type": "stream",
     "text": [
      "{'l', ' ', 'c', 'e', 'n', 'o', 'i', 'a', 'm', 'h', 'f', 'd', 'v', 'g', 'u', 'q', 's'}\n"
     ]
    }
   ],
   "source": [
    "print (set(s))"
   ]
  },
  {
   "cell_type": "markdown",
   "metadata": {},
   "source": [
    "## Listes, tuples, dictionnaires et ensembles en compréhension\n",
    "\n",
    "C'est une syntaxe très expressive, empruntée à Haskell. L'idée est de construire une liste et écrivant entre crochets la \n",
    "description de ce qu'on veut y mettre :\n",
    "```python\n",
    "[x for x in truc if bidule(x)]\n",
    "```"
   ]
  },
  {
   "cell_type": "code",
   "execution_count": 94,
   "metadata": {
    "collapsed": false
   },
   "outputs": [
    {
     "name": "stdout",
     "output_type": "stream",
     "text": [
      "['e', 'e', 'a', 'e', 'o', 'o', 'u', 'i', 'e', 'a', 'e', 'u', 'o', 'i', 'u', 'e', 'e', 'i', 'a', 'e']\n"
     ]
    }
   ],
   "source": [
    "print  ([x for x in s if x in 'aeiouy'])"
   ]
  },
  {
   "cell_type": "code",
   "execution_count": 95,
   "metadata": {
    "collapsed": false
   },
   "outputs": [
    {
     "name": "stdout",
     "output_type": "stream",
     "text": [
      "{'l': 3, ' ': 11, 'c': 3, 'e': 8, 'n': 6, 'o': 3, 'i': 3, 'a': 3, 'm': 3, 'h': 2, 'f': 1, 'd': 3, 'v': 1, 'g': 1, 'u': 3, 'q': 1, 's': 1}\n"
     ]
    }
   ],
   "source": [
    "print ({x:s.count(x) for x in set(s)})"
   ]
  },
  {
   "cell_type": "code",
   "execution_count": 96,
   "metadata": {
    "collapsed": false
   },
   "outputs": [
    {
     "name": "stdout",
     "output_type": "stream",
     "text": [
      "[48, 49, 50, 51, 52, 53, 54, 55, 56, 57, 178, 179, 185]\n"
     ]
    }
   ],
   "source": [
    "print ([x for x in range(0,256) if chr(x).isdigit()])"
   ]
  },
  {
   "cell_type": "code",
   "execution_count": 98,
   "metadata": {
    "collapsed": true
   },
   "outputs": [],
   "source": [
    "# Crible d'Eratosthène\n",
    "noprimes = [j for i in range(2, 8) for j in range(i*2, 50, i)]\n",
    "primes = [x for x in range(2, 50) if x not in noprimes]"
   ]
  },
  {
   "cell_type": "code",
   "execution_count": 99,
   "metadata": {
    "collapsed": false
   },
   "outputs": [
    {
     "data": {
      "text/plain": [
       "[2, 3, 5, 7, 11, 13, 17, 19, 23, 29, 31, 37, 41, 43, 47]"
      ]
     },
     "execution_count": 99,
     "metadata": {},
     "output_type": "execute_result"
    }
   ],
   "source": [
    "primes"
   ]
  },
  {
   "cell_type": "code",
   "execution_count": 100,
   "metadata": {
    "collapsed": false
   },
   "outputs": [
    {
     "name": "stdout",
     "output_type": "stream",
     "text": [
      "[4, 6, 8, 10, 12, 14, 16, 18, 20, 22, 24, 26, 28, 30, 32, 34, 36, 38, 40, 42, 44, 46, 48, 6, 9, 12, 15, 18, 21, 24, 27, 30, 33, 36, 39, 42, 45, 48, 8, 12, 16, 20, 24, 28, 32, 36, 40, 44, 48, 10, 15, 20, 25, 30, 35, 40, 45, 12, 18, 24, 30, 36, 42, 48, 14, 21, 28, 35, 42, 49]\n"
     ]
    }
   ],
   "source": [
    "print (noprimes)"
   ]
  },
  {
   "cell_type": "code",
   "execution_count": 103,
   "metadata": {
    "collapsed": true
   },
   "outputs": [],
   "source": [
    "# Extraire les variables affectées dans un fichier de configuration\n",
    "d=dict([kv.split(\"=\",1) \n",
    "       for kv in open(\"/etc/libuser.conf\").read().split(\"\\n\")\n",
    "       if \"=\" in kv and not kv.strip().startswith(\"#\")])"
   ]
  },
  {
   "cell_type": "code",
   "execution_count": 104,
   "metadata": {
    "collapsed": false
   },
   "outputs": [
    {
     "data": {
      "text/plain": [
       "{'LU_GIDNUMBER ': ' %u',\n",
       " 'LU_GROUPNAME ': ' %n',\n",
       " 'LU_USERNAME ': ' %n',\n",
       " 'create_modules ': ' files shadow',\n",
       " 'crypt_style ': ' blowfish',\n",
       " 'default_useradd ': ' /etc/default/useradd',\n",
       " 'login_defs ': ' /etc/login.defs',\n",
       " 'modules ': ' files shadow'}"
      ]
     },
     "execution_count": 104,
     "metadata": {},
     "output_type": "execute_result"
    }
   ],
   "source": [
    "d"
   ]
  },
  {
   "cell_type": "markdown",
   "metadata": {},
   "source": [
    "## Les fonctions\n",
    "\n",
    "On définit une fonction par le mot clef <tt>def</tt>, suivi du nom de la fonction, des arguments entre parenthèses, et de \":\".\n",
    "Si la fonction doit renvoyer une valeur, il faut utiliser <tt>return</tt>"
   ]
  },
  {
   "cell_type": "code",
   "execution_count": 105,
   "metadata": {
    "collapsed": false
   },
   "outputs": [
    {
     "name": "stdout",
     "output_type": "stream",
     "text": [
      "9\n",
      "blablablu\n"
     ]
    }
   ],
   "source": [
    "def f(x,y):\n",
    "    return 2*x+y\n",
    "\n",
    "print (f(2,5))\n",
    "print (f('bla','blu'))"
   ]
  },
  {
   "cell_type": "code",
   "execution_count": 106,
   "metadata": {
    "collapsed": false
   },
   "outputs": [
    {
     "data": {
      "text/plain": [
       "93326215443944152681699238856266700490715968264381621468592963895217599993229915608941463976156518286253697920827223758251185210916864000000000000000000000000"
      ]
     },
     "execution_count": 106,
     "metadata": {},
     "output_type": "execute_result"
    }
   ],
   "source": [
    "# Fonction récursive\n",
    "def factorielle(n):\n",
    "    if n<2: return 1\n",
    "    return n*factorielle(n-1)\n",
    "\n",
    "factorielle(100)"
   ]
  },
  {
   "cell_type": "code",
   "execution_count": 107,
   "metadata": {
    "collapsed": false
   },
   "outputs": [
    {
     "data": {
      "text/plain": [
       "30"
      ]
     },
     "execution_count": 107,
     "metadata": {},
     "output_type": "execute_result"
    }
   ],
   "source": [
    "def aire(x1,y1,x2,y2):\n",
    "    delta_x=x2-x1\n",
    "    delta_y=y2-y1\n",
    "    return abs(delta_x*delta_y)\n",
    "\n",
    "aire(1,2,6,8)"
   ]
  },
  {
   "cell_type": "markdown",
   "metadata": {},
   "source": [
    "Les fonctions peuvent avoir des argument nommés avec des valeurs par défaut :"
   ]
  },
  {
   "cell_type": "code",
   "execution_count": 108,
   "metadata": {
    "collapsed": false
   },
   "outputs": [
    {
     "name": "stdout",
     "output_type": "stream",
     "text": [
      "30\n",
      "30\n"
     ]
    }
   ],
   "source": [
    "def aire(a,b,x2=None,y2=None): \n",
    "    if x2: x1,y1=a,b\n",
    "    else: (x1,y1),(x2,y2)=a,b\n",
    "    return abs((x2-x1)*(y2-y1))\n",
    "print (aire(1,2,6,8))\n",
    "print (aire((1,2), (6,8)))"
   ]
  },
  {
   "cell_type": "markdown",
   "metadata": {},
   "source": [
    "Interdit : <tt>fonction(param=valeur,autreparam)</tt>\n",
    "    \n",
    "\n",
    "On peut avoir un nombre variable d'arguments :"
   ]
  },
  {
   "cell_type": "code",
   "execution_count": 109,
   "metadata": {
    "collapsed": false
   },
   "outputs": [
    {
     "name": "stdout",
     "output_type": "stream",
     "text": [
      "trois: 3\n",
      "riri + fifi + loulou = 17\n"
     ]
    }
   ],
   "source": [
    "def printf(format_string, *args):\n",
    "    print (format_string % args)\n",
    "\n",
    "printf(\"%s: %d\",\"trois\",3)\n",
    "\n",
    "liste=[\"riri\", \"fifi\", \"loulou\", 17]\n",
    "printf(\"%s + %s + %s = %d\",*liste)\n"
   ]
  },
  {
   "cell_type": "markdown",
   "metadata": {},
   "source": [
    "L'opérateur * extrait les éléments d'une liste (seulementdans un appel de fonction).\n",
    "```python\n",
    "toto(a,b,c) = toto(*[a,b,c])\n",
    "```\n",
    "\n",
    "\n",
    "On peut aussi avoir des argument nommés arbitraires :"
   ]
  },
  {
   "cell_type": "code",
   "execution_count": 110,
   "metadata": {
    "collapsed": false
   },
   "outputs": [
    {
     "name": "stdout",
     "output_type": "stream",
     "text": [
      "Font name is Helvetica.\n",
      "Font size is 24.\n",
      "Extra attributes:\n",
      "\tcolor: red\n",
      "\tbackground: black\n"
     ]
    }
   ],
   "source": [
    "def apply_font(font=\"Helvetica\", size=12, **styles):\n",
    "    print (\"Font name is %s.\"%font) \n",
    "    print (\"Font size is %d.\"%size)\n",
    "    print (\"Extra attributes:\")\n",
    "    for attrname,attrvalue in styles.items():\n",
    "        print (\"\\t%s: %s\"%(attrname,str(attrvalue)))\n",
    "\n",
    "apply_font(size=24,color=\"red\",background=\"black\")\n"
   ]
  },
  {
   "cell_type": "markdown",
   "metadata": {},
   "source": [
    "La variable <tt>styles</tt> est vue comme un dictionnaire, et l'opérateur ** en extrait les couples clef=valeur."
   ]
  },
  {
   "cell_type": "markdown",
   "metadata": {},
   "source": [
    "Une fonction peut renvoyer plusieurs valeurs. Il suffit de retourner un tuple. Ses éléments peuvent alors être affectées en une seule instruction à différentes variables :"
   ]
  },
  {
   "cell_type": "code",
   "execution_count": 111,
   "metadata": {
    "collapsed": false
   },
   "outputs": [
    {
     "name": "stdout",
     "output_type": "stream",
     "text": [
      "8 2\n"
     ]
    }
   ],
   "source": [
    "def division(a,b):\n",
    "    return a//b, a%b\n",
    "\n",
    "q,r = division (26,3)\n",
    "print (q,r)"
   ]
  },
  {
   "cell_type": "markdown",
   "metadata": {},
   "source": [
    "Lorsqu'on passe un paramètre à une fonction, une référence à l'objet passé est ajoutée à la portée locale de la fonction.\n",
    "\n",
    "Lorsqu'on modifie l'objet en place, la fonction voit les modifications, \n",
    "car le paramètre local est une référence à l'objet qu'elle voit.\n",
    "\n",
    "Lorsque l'on affecte une nouvelle valeur au  paramètre local, l'objet ne change pas. \n",
    "Le nom du paramètre est maintenant une référence à un objet différent, mais cela n'affecte pas le contenu de l'objet d'origine."
   ]
  },
  {
   "cell_type": "code",
   "execution_count": 117,
   "metadata": {
    "collapsed": false
   },
   "outputs": [
    {
     "name": "stdout",
     "output_type": "stream",
     "text": [
      "txt = ???\n",
      "list1 = [1, 2, 3, 5]\n",
      "list2 = [1.0, 2.0]\n"
     ]
    }
   ],
   "source": [
    "def f(a, b, c):\n",
    "    a += \"!!!\"\n",
    "    b.append(5)\n",
    "    c = []\n",
    "\n",
    "txt = \"???\"\n",
    "list1 = [1, 2, 3]\n",
    "list2 = [1.0, 2.0]\n",
    "f(txt, list1, list2)\n",
    "print (\"txt =\", txt)\n",
    "print (\"list1 =\", list1)\n",
    "print (\"list2 =\", list2)"
   ]
  },
  {
   "cell_type": "markdown",
   "metadata": {},
   "source": [
    "Lorsque la fonction est invoquée, elle crée trois noms locaux qui contiennent des références aux objets passés passés: \n",
    "a = txt, b = list1, c = list2\n",
    "\n",
    "La ligne a + = \"!!!\" attribue une nouvelle référence d'objet au nom local a. \n",
    "Elle ne change pas la chaîne in situ. (Les chaînes ne peuvent pas être modifiées en tout parce qu'elles sont des objets immuables.\n",
    "\n",
    "La ligne b.append (5) ajoute une valeur à l'objet pointé par b. C'est le même objet que f connaît comme list1.\n",
    "\n",
    "La ligne c = [] attribue une nouvelle référence d'objet au nom local c. Elle ne modifie pas l'objet c mentionné précédemment"
   ]
  },
  {
   "cell_type": "markdown",
   "metadata": {},
   "source": [
    "### Fonctions anonymes\n",
    "\n",
    "Il est inutile de donner un nom à une fonction qu'on n'utilise qu'une fois. Le mot clef <tt>lambda</tt> (emprunté au Lisp, basé sur le lambda-calcul)\n",
    "permet de définir une fonction anonyme :"
   ]
  },
  {
   "cell_type": "code",
   "execution_count": 118,
   "metadata": {
    "collapsed": false
   },
   "outputs": [
    {
     "data": {
      "text/plain": [
       "<function __main__.<lambda>>"
      ]
     },
     "execution_count": 118,
     "metadata": {},
     "output_type": "execute_result"
    }
   ],
   "source": [
    "lambda x: x*x"
   ]
  },
  {
   "cell_type": "code",
   "execution_count": 119,
   "metadata": {
    "collapsed": false
   },
   "outputs": [
    {
     "data": {
      "text/plain": [
       "9"
      ]
     },
     "execution_count": 119,
     "metadata": {},
     "output_type": "execute_result"
    }
   ],
   "source": [
    "f = lambda x:x*x\n",
    "f(3)"
   ]
  },
  {
   "cell_type": "markdown",
   "metadata": {},
   "source": [
    "Elles s'utilisent pricipalement avec les constructions <tt>map,filter,reduce</tt>, issues de la programmation fonctionnelle :"
   ]
  },
  {
   "cell_type": "code",
   "execution_count": 120,
   "metadata": {
    "collapsed": false
   },
   "outputs": [
    {
     "data": {
      "text/plain": [
       "<map at 0x7fc5c00ae208>"
      ]
     },
     "execution_count": 120,
     "metadata": {},
     "output_type": "execute_result"
    }
   ],
   "source": [
    "map(lambda x: x**2, range(1,10)) # liste des carrés des entiers de 1 à 9"
   ]
  },
  {
   "cell_type": "code",
   "execution_count": 121,
   "metadata": {
    "collapsed": false
   },
   "outputs": [
    {
     "data": {
      "text/plain": [
       "[1, 4, 9, 16, 25, 36, 49, 64, 81]"
      ]
     },
     "execution_count": 121,
     "metadata": {},
     "output_type": "execute_result"
    }
   ],
   "source": [
    "# map retourne un itérateur en python 3\n",
    "list(_)"
   ]
  },
  {
   "cell_type": "code",
   "execution_count": 122,
   "metadata": {
    "collapsed": false
   },
   "outputs": [
    {
     "data": {
      "text/plain": [
       "<filter at 0x7fc5c00ae9e8>"
      ]
     },
     "execution_count": 122,
     "metadata": {},
     "output_type": "execute_result"
    }
   ],
   "source": [
    "filter(lambda x: x%2, range(1,10)) # sélectionne les nombres impairs (x%2=0, qui est \"\"faux\" si x est pair)"
   ]
  },
  {
   "cell_type": "code",
   "execution_count": 123,
   "metadata": {
    "collapsed": false
   },
   "outputs": [
    {
     "data": {
      "text/plain": [
       "[1, 3, 5, 7, 9]"
      ]
     },
     "execution_count": 123,
     "metadata": {},
     "output_type": "execute_result"
    }
   ],
   "source": [
    "list(_)"
   ]
  },
  {
   "cell_type": "code",
   "execution_count": 124,
   "metadata": {
    "collapsed": false
   },
   "outputs": [
    {
     "data": {
      "text/plain": [
       "93326215443944152681699238856266700490715968264381621468592963895217599993229915608941463976156518286253697920827223758251185210916864000000000000000000000000"
      ]
     },
     "execution_count": 124,
     "metadata": {},
     "output_type": "execute_result"
    }
   ],
   "source": [
    "from functools import reduce # il faut aller le chercher dans functools\n",
    "reduce(lambda x,y: x*y, range(1,101)) # calcule 100!"
   ]
  },
  {
   "cell_type": "code",
   "execution_count": 125,
   "metadata": {
    "collapsed": false
   },
   "outputs": [
    {
     "data": {
      "text/plain": [
       "93326215443944152681699238856266700490715968264381621468592963895217599993229915608941463976156518286253697920827223758251185210916864000000000000000000000000"
      ]
     },
     "execution_count": 125,
     "metadata": {},
     "output_type": "execute_result"
    }
   ],
   "source": [
    "from operator import mul\n",
    "reduce(mul, range(1,101)) # autre version"
   ]
  },
  {
   "cell_type": "markdown",
   "metadata": {},
   "source": [
    "<tt>reduce(f(x,y),liste)</tt> applique f aux deux premiers éléments, puis au résultat et au troisième, et ainsi de suite...\n",
    "\n",
    "Ces constructions sont dépréciées. <tt>map(f,ll)</tt> peut être avantageusement remplacée par \n",
    "<tt>[f(x) for x in ll]</tt>. Les deux autres sont reléguées au module <tt>functools</tt> en python 3. Elles sont considérées\n",
    "comme peu lisibles, mais restent commodes quand on travaille en mode interprété."
   ]
  },
  {
   "cell_type": "markdown",
   "metadata": {},
   "source": [
    "## Le typage en Python\n",
    "\n",
    "Typage dynamique : les types sont implicitement *polymorphes*\n",
    "\n",
    "On peut surcharger les opérateurs. Par exemple, + est automatiquement défini sur les objets qui possèdent une \n",
    "*méthode spéciale* \n",
    "````python\n",
    "__add__``` \n",
    " \n",
    "*Duck typing* : Connaître le type d'un objet n'a pas d'importance, \n",
    "il faut seulement s'assurer qu'on peut lui appliquer les traitements souhaités\n",
    "\n",
    "\"si ça marche comme un canard et si ça cancane comme un canard, alors ce doit être un canard\n",
    "(et si c'est une oie, on doit pouvoir faire avec)\".\n",
    "\n",
    "Utiliser la coertion si un objet doit être d'un type particulier <tt>str(x)</tt> plutôt\n",
    "que de demander <tt>isinstance(x,str)</tt>.\n",
    "\n",
    "EAFP : \"It's easier to ask forgiveness than permission\". Utiliser le mécanisme\n",
    "de gestion des exceptions (<tt>try ... except</tt>) pour déterminer le traitement approprié.\n"
   ]
  },
  {
   "cell_type": "code",
   "execution_count": 126,
   "metadata": {
    "collapsed": false
   },
   "outputs": [
    {
     "name": "stdout",
     "output_type": "stream",
     "text": [
      "<class 'int'> <class 'float'> <class 'str'> <class 'list'>\n"
     ]
    }
   ],
   "source": [
    "print (type(5), type(5.0), type(\"abra\"),type([1,2]))"
   ]
  },
  {
   "cell_type": "code",
   "execution_count": 127,
   "metadata": {
    "collapsed": false
   },
   "outputs": [
    {
     "ename": "TypeError",
     "evalue": "unsupported operand type(s) for +: 'int' and 'str'",
     "output_type": "error",
     "traceback": [
      "\u001b[0;31m---------------------------------------------------------------------------\u001b[0m",
      "\u001b[0;31mTypeError\u001b[0m                                 Traceback (most recent call last)",
      "\u001b[0;32m<ipython-input-127-520cfc4f4ec7>\u001b[0m in \u001b[0;36m<module>\u001b[0;34m()\u001b[0m\n\u001b[0;32m----> 1\u001b[0;31m \u001b[0;36m2\u001b[0m\u001b[0;34m+\u001b[0m\u001b[0;34m'2'\u001b[0m\u001b[0;34m\u001b[0m\u001b[0m\n\u001b[0m",
      "\u001b[0;31mTypeError\u001b[0m: unsupported operand type(s) for +: 'int' and 'str'"
     ]
    }
   ],
   "source": [
    "2+'2'"
   ]
  },
  {
   "cell_type": "code",
   "execution_count": 128,
   "metadata": {
    "collapsed": false
   },
   "outputs": [
    {
     "data": {
      "text/plain": [
       "True"
      ]
     },
     "execution_count": 128,
     "metadata": {},
     "output_type": "execute_result"
    }
   ],
   "source": [
    "isinstance('toto',str)"
   ]
  },
  {
   "cell_type": "code",
   "execution_count": null,
   "metadata": {
    "collapsed": true
   },
   "outputs": [],
   "source": []
  }
 ],
 "metadata": {
  "kernelspec": {
   "display_name": "Python 3",
   "language": "python",
   "name": "python3"
  },
  "language_info": {
   "codemirror_mode": {
    "name": "ipython",
    "version": 3
   },
   "file_extension": ".py",
   "mimetype": "text/x-python",
   "name": "python",
   "nbconvert_exporter": "python",
   "pygments_lexer": "ipython3",
   "version": "3.5.3"
  }
 },
 "nbformat": 4,
 "nbformat_minor": 2
}

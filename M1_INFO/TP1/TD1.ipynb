{
 "cells": [
  {
   "cell_type": "markdown",
   "metadata": {},
   "source": [
    "# TD1 - Python 3\n",
    "## Prise en main du langage\n",
    "\n",
    "Dans chaque paragraphe, il y a quelques lignes de code. Copiez-les une par une dans l'interpréteur Python pour observer leur effet. Essayez des variantes. Essayez différents environnements :\n",
    "\n",
    "* Terminal et éditeur\n",
    "* idle (shell et éditeur)\n",
    "* ipython et éditeur\n",
    "* jupyter notebook\n",
    "\n",
    "Ces exemples vont vous permettre de vous familiariser très vite avec le langage.\n",
    "\n",
    "Rappel : on accède aux attributs d'un objet avec dir(...) et à l'aide en ligne avec help(...)\n",
    "\n",
    "Après chaque paragraphe, il y a des petits exercices liés aux concepts présentés. Il ne faut par chercher à écrire un programme puis à l'exécuter, mais mettre au point les instructions une par une dans l'interpréteur, et ne les encapsuler dans un programme qu'une fois qu'elles donnent le résultat escompté. Vous devez avoir les transparents du cours et la documentation à portée de main.\n",
    "### Tour d'horizon rapide\n",
    "\n",
    "On lance l'interpréteur en tapant \"python\".\n",
    "\n",
    "On obtient un prompt >>>.\n",
    "\n",
    "On tape les instructions directement, il n'y a pas besoin de mettre un point virgule à la fin des lignes.\n",
    "\n",
    "### Entiers et chaines\n",
    "```python\n",
    "# ceci est un commentaire\n",
    "print (2+2) # on affiche avec \"print()\" \n",
    "2+2 # mais dans l'interpréteur ce n'est pas indispensable\n",
    "print (\"dro\"+'madaire') # les chaînes peuvent être avec des \" ou des ' et on peut les concaténer\n",
    "\"toto\"\n",
    "'toto'\n",
    "print (\"a\"+2*\"na\"+\"s\") # on peut aussi multiplier les chaînes\n",
    "print (\"mignonne allons voir si la rose\\netc.\") # on peut mettre des \\quelquechose\n",
    "print (\"ceci\\test une tabulation, mais pas cela\\\\t.\") # le caractére d'échappement est \\\n",
    "alphabet=\"abcdefghijklmnopqrstuvwxyz\" # on définit une variable\n",
    "print (alphabet) # ça affiche l'alphabet, pas de surprise\n",
    "print (len(alphabet)) # \"len\" c'est pour \"length\", c'est-à-dire \"longueur\"\n",
    "help(len)\n",
    "alphabet.upper() # les chaînes ont des méthodes commodes\n",
    "dir(alphabet) # on en obtient la liste ainsi\n",
    "help(dir)\n",
    "print ((2**8)%100) # 2 puissance 8, le tout modulo 100 (ça fait 56)\n",
    "print (1,end=''), # end='' permet de ne pas aller à la ligne\n",
    "print (1,end=' '); print (2) # ... cette ligne affichera donc « 1 2 »\n",
    "```\n",
    "#### *Exercice 1*\n",
    "Soit une variable appelée \"message\" et contenant un message de moins de 75 caractères. Écrire un bout de programme qui affiche ce message en l'encadrant avec des *. Par exemple si message=\"coin coin\", le programme doit afficher :\n",
    "```\n",
    "    *************\n",
    "    * coin coin *\n",
    "    *************\n",
    "```"
   ]
  },
  {
   "cell_type": "code",
   "execution_count": 20,
   "metadata": {},
   "outputs": [],
   "source": [
    "def display(message):\n",
    "    lenght = len(message)\n",
    "    if lenght > 75:\n",
    "        raise Exception(\"Message too long\")\n",
    "    star_line = ''.join(['*' for i in range(lenght+4)])\n",
    "    # star_line = (lenght+4)*'*'\n",
    "    main_line = '* ' + message + ' *'\n",
    "    print (star_line + '\\n' + main_line + '\\n' + star_line)"
   ]
  },
  {
   "cell_type": "code",
   "execution_count": 21,
   "metadata": {},
   "outputs": [
    {
     "name": "stdout",
     "output_type": "stream",
     "text": [
      "*************\n",
      "* coin coin *\n",
      "*************\n"
     ]
    }
   ],
   "source": [
    "display('coin coin')"
   ]
  },
  {
   "cell_type": "markdown",
   "metadata": {},
   "source": [
    "#### *Exercice 2*\n",
    "Soit toujours la même variable ; cette fois-ci on veut que le cadre fasse 79 caractères de large et que le message soit centré. Par exemple (on a mis des points pour visualiser la mise en page, mais ils ne doivent pas apparaître, bien sûr) :\n",
    "\n",
    "```\n",
    "*******************************************************************************\n",
    "* . . . . . . . . . . . . . . . . .coin coin. . . . . . . . . . . . . . . . . *\n",
    "*******************************************************************************\n",
    "```"
   ]
  },
  {
   "cell_type": "code",
   "execution_count": 22,
   "metadata": {
    "collapsed": true
   },
   "outputs": [],
   "source": [
    "def display_fixed(message, lenght=79):\n",
    "    if len(message) > 75:\n",
    "        raise Exception(\"Message too long\")\n",
    "    left_ws = (lenght-len(message))//2\n",
    "    right_ws = lenght-len(message)-left_ws\n",
    "    star_line = lenght*'*'\n",
    "    main_line = '*' + left_ws*' ' + message + right_ws*' ' + '*'\n",
    "    print (star_line + '\\n' + main_line + '\\n' + star_line)"
   ]
  },
  {
   "cell_type": "code",
   "execution_count": 23,
   "metadata": {},
   "outputs": [
    {
     "name": "stdout",
     "output_type": "stream",
     "text": [
      "*******************************************************************************\n",
      "*                                   coin coin                                   *\n",
      "*******************************************************************************\n",
      "\n",
      "*******************************************************************************\n",
      "*                                     couac                                     *\n",
      "*******************************************************************************\n",
      "\n",
      "*******************************************************************************\n",
      "*                            coincoinsdjkfhskjfhskdj                            *\n",
      "*******************************************************************************\n"
     ]
    }
   ],
   "source": [
    "display_fixed('coin coin')\n",
    "print()\n",
    "display_fixed('couac')\n",
    "print()\n",
    "display_fixed('coincoinsdjkfhskjfhskdj')"
   ]
  },
  {
   "cell_type": "markdown",
   "metadata": {},
   "source": [
    "### Le formatage des chaînes de caractères\n",
    "\n",
    "Pour l'instant, nous avons utilisé des \"+\" pour concaténer les chaînes à afficher. Ce n'est pas la meilleure méthode. Pour faire l'équivalent d'un printf, on fait comme ceci :\n",
    "\n",
    "```python\n",
    "print (\"La somme de %d et %d, ça fait %d, qui est un nombre %s.\"%(2, 40, 2+40, \"positif\"))\n",
    "```\n",
    "\n",
    "C'est-à-dire qu'on utilise l'opérateur modulo (%) qui va prendre à gauche, une chaîne avec des %quelquechose, et à droite, une liste d'arguments à remplacer. Listes (ou tableaux, c'est pareil)\n",
    "\n",
    "```python\n",
    "daltons=[\"joe\",\"jack\",\"william\",\"averell\"]\n",
    "print (daltons[0]) # les listes, ça commence à zéro\n",
    "print (daltons[1:3]) # sous-liste de l'élément 1 inclus jusqu'au 3 exclus\n",
    "print (daltons[-1]) # -N = Nème élément en partant de la fin\n",
    "print (daltons[2:]) # sous-liste de l'élément 2 jusqu'à la fin\n",
    "daltons.sort() # tri alphabétique en place\n",
    "print (daltons) # affiche la liste triée\n",
    "petit=daltons[0] # c'est \"averell\" vu qu'on a trié dans l'ordre alphabétique\n",
    "print (petit[0]) # surprise : une chaîne, c'est une liste de caractères...\n",
    "print (daltons[-2][3:]) # on peut faire ça (quoi, au fait ?)\n",
    "```\n",
    "\n",
    "#### *Exercice 3*\n",
    "L'inverse de l'exercice 1 : on suppose qu'il existe une variable \"message\", contenant un message encadré d'étoiles. Écrire un bout de programme permettant de retrouver le message original. Par exemple, si **message=\"\\*\"\\*13+\"\\n\\* coin coin \\*\\n\"+\"\\*\"\\*13**, le programme doit afficher \"coin coin\". Bien sûr, il faut que ça marche quelle que soit la taille du message (pas seulement avec des messages de 9 caractères!). On suppose que le message original est bien construit (c'est-à-dire qu'il n'y a pas d'étoiles en plus ou en moins que ce qu'il faut)."
   ]
  },
  {
   "cell_type": "code",
   "execution_count": 30,
   "metadata": {
    "collapsed": true
   },
   "outputs": [],
   "source": [
    "def get_message(message):\n",
    "    return message.split('\\n')[1][2:-2]"
   ]
  },
  {
   "cell_type": "code",
   "execution_count": 31,
   "metadata": {},
   "outputs": [
    {
     "data": {
      "text/plain": [
       "'coin coin'"
      ]
     },
     "execution_count": 31,
     "metadata": {},
     "output_type": "execute_result"
    }
   ],
   "source": [
    "get_message(\"*\"*13 + \"\\n* coin coin *\\n\" + \"*\"*13)"
   ]
  },
  {
   "cell_type": "markdown",
   "metadata": {},
   "source": [
    "### Dictionnaires"
   ]
  },
  {
   "cell_type": "code",
   "execution_count": 34,
   "metadata": {},
   "outputs": [
    {
     "name": "stdout",
     "output_type": "stream",
     "text": [
      "{'tel': '888-88-888-88', 'prenom': 'lazare', 'ville': 'paris', 'date_de_naissance': [1, 4, 1515], 'nom': 'garcin', 'poissons_rouges': 2}\n"
     ]
    }
   ],
   "source": [
    "client={ \"prenom\":\"lazare\",\"nom\":\"garcin\", \"date_de_naissance\":[1,4,1515],\n",
    "\n",
    "\"poissons_rouges\":2, 123:\"un deux trois\"}\n",
    "\n",
    "client[\"ville\"]=\"plessis\" # ajoute une clé\n",
    "client[\"ville\"]=\"paris\" # modifie la valeur\n",
    "encore={'tel':'888-88-888-88', 123:'cent-vingt-trois'} # nouvelles données\n",
    "client.update(encore) # mise à jour\n",
    "del client[123] # supprime une valeur\n",
    "print (client) # affiche la table résultante"
   ]
  },
  {
   "cell_type": "markdown",
   "metadata": {},
   "source": [
    "### Les structures de contrôle"
   ]
  },
  {
   "cell_type": "code",
   "execution_count": 33,
   "metadata": {},
   "outputs": [
    {
     "name": "stdout",
     "output_type": "stream",
     "text": [
      "5 est plus grand que 2\n"
     ]
    },
    {
     "ename": "NameError",
     "evalue": "name 'daltons' is not defined",
     "output_type": "error",
     "traceback": [
      "\u001b[0;31m---------------------------------------------------------------------------\u001b[0m",
      "\u001b[0;31mNameError\u001b[0m                                 Traceback (most recent call last)",
      "\u001b[0;32m<ipython-input-33-924d3c134239>\u001b[0m in \u001b[0;36m<module>\u001b[0;34m()\u001b[0m\n\u001b[1;32m      2\u001b[0m \u001b[0;32melse\u001b[0m\u001b[0;34m:\u001b[0m \u001b[0mprint\u001b[0m \u001b[0;34m(\u001b[0m\u001b[0;34m\"5 est plus petit que 2\"\u001b[0m\u001b[0;34m)\u001b[0m\u001b[0;34m\u001b[0m\u001b[0m\n\u001b[1;32m      3\u001b[0m \u001b[0;34m\u001b[0m\u001b[0m\n\u001b[0;32m----> 4\u001b[0;31m \u001b[0;32mfor\u001b[0m \u001b[0mnom\u001b[0m \u001b[0;32min\u001b[0m \u001b[0mdaltons\u001b[0m\u001b[0;34m:\u001b[0m \u001b[0mprint\u001b[0m \u001b[0;34m(\u001b[0m\u001b[0mnom\u001b[0m\u001b[0;34m+\u001b[0m\u001b[0;34m\" est un dalton\"\u001b[0m\u001b[0;34m)\u001b[0m\u001b[0;34m\u001b[0m\u001b[0m\n\u001b[0m\u001b[1;32m      5\u001b[0m \u001b[0;34m\u001b[0m\u001b[0m\n\u001b[1;32m      6\u001b[0m \u001b[0mprint\u001b[0m \u001b[0;34m(\u001b[0m\u001b[0;34m\"la famille dalton comprend :\"\u001b[0m\u001b[0;34m)\u001b[0m\u001b[0;34m\u001b[0m\u001b[0m\n",
      "\u001b[0;31mNameError\u001b[0m: name 'daltons' is not defined"
     ]
    }
   ],
   "source": [
    "if 5>2: print (\"5 est plus grand que 2\")\n",
    "else: print (\"5 est plus petit que 2\")\n",
    "\n",
    "for nom in daltons: print (nom+\" est un dalton\")\n",
    "\n",
    "print (\"la famille dalton comprend :\")\n",
    "for nom in daltons:\n",
    "    nom_complet=nom+\"dalton\"\n",
    "    print (nom_complet)\n",
    "\n",
    "# Plus élégant :\n",
    "\n",
    "print ('La famille Dalton comprend :\\n' + '\\n'.join([x.capitalize()+ ' Dalton' for x in daltons]))\n",
    "\n",
    "# Cette dernière utilise une compréhension de liste, comme ce quicksort en deux lignes\n",
    "\n",
    "def q(L):\n",
    "    if len(L)<= 1: return L\n",
    "    return q([x for x in L[1:] if x<L[0]])+[L[0]]+q([y for y in L[1:] if y>=L[0]])\n",
    "\n",
    "s=\"abracadabrakangourou\"\n",
    "t=\"\"\n",
    "while s:\n",
    "    if s[0]==\"k\": break\n",
    "    t=t+s[0]\n",
    "    s=s[1:]\n",
    "\n",
    "print (s)\n",
    "print (t)"
   ]
  },
  {
   "cell_type": "markdown",
   "metadata": {},
   "source": [
    "On note qu'il n'y a pas d'accolade : c'est l'indentation qui détermine les blocs de code !\n",
    "#### *Exercice 4*\n",
    "\n",
    "Écrire un bout de programme qui prend deux chaînes s1 et s2 et qui les \"tricote\" ensemble, par exemple si s1=\"abcdef\" et s2=\"0123456789\", le résultat doit être \"a0b1c2d3e4f56789\" (on intercale une lettre de la première, une lettre de la deuxième, etc.)"
   ]
  },
  {
   "cell_type": "code",
   "execution_count": 44,
   "metadata": {
    "collapsed": true
   },
   "outputs": [],
   "source": [
    "def knit_string(s1, s2):\n",
    "    line = []\n",
    "    if len(s1) > len(s2):\n",
    "        smallest = s2\n",
    "        biggest = s1\n",
    "    else:\n",
    "        smallest = s1\n",
    "        biggest = s2\n",
    "    for i in range (len(smallest)):\n",
    "        line+=s1[i]+s2[i]\n",
    "    line += biggest[i+1:]\n",
    "    return ''.join(line)"
   ]
  },
  {
   "cell_type": "code",
   "execution_count": 45,
   "metadata": {},
   "outputs": [
    {
     "name": "stdout",
     "output_type": "stream",
     "text": [
      "a0b1c2d3e4f56789\n"
     ]
    }
   ],
   "source": [
    "print(knit_string(\"abcdef\", \"0123456789\"))"
   ]
  },
  {
   "cell_type": "markdown",
   "metadata": {},
   "source": [
    "### Définition de fonctions"
   ]
  },
  {
   "cell_type": "code",
   "execution_count": 40,
   "metadata": {},
   "outputs": [
    {
     "name": "stdout",
     "output_type": "stream",
     "text": [
      "1 1 2 3 5 8 13 21 34 55 89 144 233 377 610 987 1597 Le cheval de mon cousin ne mange du foin que le dimanche\n"
     ]
    },
    {
     "data": {
      "text/plain": [
       "<filter at 0x7f75f055e630>"
      ]
     },
     "execution_count": 40,
     "metadata": {},
     "output_type": "execute_result"
    }
   ],
   "source": [
    "def fib(n):  \n",
    "    \"\"\"Imprime les nombres de Fibonacci inferieurs a n\"\"\"\n",
    "    a, b = 0, 1\n",
    "    while b < n:\n",
    "        print (b,end=' ')\n",
    "        a, b = b, a+b\n",
    "\n",
    "fib(2000)\n",
    "\n",
    "def demande_ok(prompt, essais=4, message=\"oui ou non, SVP!\"):\n",
    "    while True:\n",
    "        ok = input(prompt)\n",
    "        if ok in ['o', 'oui', 'O', 'y', 'yes', 'ouaip']: return True\n",
    "        if ok in ['n', 'non', 'N', 'no', 'nope']: return False\n",
    "        essais-=1\n",
    "        if essais < 0: raise IOError ('Rien a faire ...')\n",
    "        print (message) \n",
    "\n",
    "\n",
    "def printf(format, *args):\n",
    "    print (format % args)\n",
    "\n",
    "printf('Le %s de mon %s ne mange du %s que le %s', 'cheval', 'cousin', 'foin', 'dimanche')\n",
    "\n",
    "aa=[3,8]\n",
    "#*aa\n",
    "range(*aa)\n",
    "\n",
    "map(lambda x:x**2, range(10,20))\n",
    "#sum(_)\n",
    "\n",
    "\n",
    "filter(lambda s:s.startswith('j'),daltons)"
   ]
  },
  {
   "cell_type": "markdown",
   "metadata": {},
   "source": [
    "\n",
    "#### Exercice 6\n",
    "\n",
    "On suppose qu'on a la liste suivante :\n",
    "```python\n",
    "daltons=[{\"nom\":\"joe\",\"taille\":140,\"caractere\":\"teigneux\"},\n",
    "\n",
    "{\"nom\":\"jack\",\"taille\":155,\"caractere\":\"idiot\"},\n",
    "{\"nom\":\"william\",\"taille\":170,\"caractere\":\"stupide\"},\n",
    "{\"nom\":\"averell\",\"taille\":185,\"caractere\":\"abruti\"}]\n",
    "```\n",
    "\n",
    "En Python 3, la méthode sort a un paramètre optionnel key, une fonction qui est appliquée à chaque élément avant comparaison.\n",
    "\n",
    "Exécuter le code suivant pour tester les fonctions :\n",
    "\n",
    "\n",
    "\n"
   ]
  },
  {
   "cell_type": "code",
   "execution_count": 37,
   "metadata": {},
   "outputs": [
    {
     "name": "stdout",
     "output_type": "stream",
     "text": [
      "[{'nom': 'joe', 'taille': 140, 'caractere': 'teigneux'}, {'nom': 'jack', 'taille': 155, 'caractere': 'idiot'}, {'nom': 'william', 'taille': 170, 'caractere': 'stupide'}, {'nom': 'averell', 'taille': 185, 'caractere': 'abruti'}]\n",
      "[{'nom': 'averell', 'taille': 185, 'caractere': 'abruti'}, {'nom': 'jack', 'taille': 155, 'caractere': 'idiot'}, {'nom': 'joe', 'taille': 140, 'caractere': 'teigneux'}, {'nom': 'william', 'taille': 170, 'caractere': 'stupide'}]\n",
      "[{'nom': 'joe', 'taille': 140, 'caractere': 'teigneux'}, {'nom': 'jack', 'taille': 155, 'caractere': 'idiot'}, {'nom': 'william', 'taille': 170, 'caractere': 'stupide'}, {'nom': 'averell', 'taille': 185, 'caractere': 'abruti'}]\n"
     ]
    }
   ],
   "source": [
    "daltons=[{\"nom\":\"joe\",\"taille\":140,\"caractere\":\"teigneux\"},\n",
    "\n",
    "{\"nom\":\"jack\",\"taille\":155,\"caractere\":\"idiot\"},\n",
    "{\"nom\":\"william\",\"taille\":170,\"caractere\":\"stupide\"},\n",
    "{\"nom\":\"averell\",\"taille\":185,\"caractere\":\"abruti\"}]\n",
    "\n",
    "print (daltons)\n",
    "daltons.sort(key=lambda x:x['nom'])\n",
    "print (daltons)\n",
    "daltons.sort(key=lambda x:x['taille'])\n",
    "print (daltons)"
   ]
  }
 ],
 "metadata": {
  "kernelspec": {
   "display_name": "Python 3",
   "language": "python",
   "name": "python3"
  },
  "language_info": {
   "codemirror_mode": {
    "name": "ipython",
    "version": 3
   },
   "file_extension": ".py",
   "mimetype": "text/x-python",
   "name": "python",
   "nbconvert_exporter": "python",
   "pygments_lexer": "ipython3",
   "version": "3.7.6"
  }
 },
 "nbformat": 4,
 "nbformat_minor": 2
}

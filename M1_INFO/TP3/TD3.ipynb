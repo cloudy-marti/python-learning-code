{
 "cells": [
  {
   "cell_type": "markdown",
   "metadata": {},
   "source": [
    "# TD 3\n",
    "\n",
    "### **Exercice 1 : Utilisation des modules os et os.path**\n",
    "1. Commencer par regarder la documentation. Pour tester ces exercices, créer un répertoire contenant une arborescence de quelques sous-répertoires, fichiers (vides), et liens symboliques.\n",
    "\n",
    "2. Écrire un programme qui fait la liste des fichiers (pas les répertoires!) présents dans un répertoire donné (répertoire et sous-répertoires). (Et qui affiche la liste, avec un nom par ligne ; exactement comme la commande find .). S'il fonctionne sur le répertoire de test, l'essayer sur votre répertoire racine."
   ]
  },
  {
   "cell_type": "code",
   "execution_count": 3,
   "metadata": {},
   "outputs": [
    {
     "name": "stdout",
     "output_type": "stream",
     "text": [
      "folder\\.hidden\n",
      "folder\\touch\n",
      "folder\\another_folder\\file.txt\n",
      "folder\\another_folder\\next_folder\\.hidden_file\n",
      "folder\\another_folder\\next_folder\\a_file\n",
      "folder\\another_folder\\next_folder\\but_not_least\\i_like_pizza\n",
      "folder\\another_folder\\next_folder\\last_folder\\hello\n"
     ]
    }
   ],
   "source": [
    "import os\n",
    "\n",
    "def find(root):\n",
    "    tree = os.walk(root)\n",
    "    for root, dirs, files in tree:\n",
    "        for file in files:\n",
    "            # print(os.path.join(root, file))\n",
    "            print(root+os.path.sep+file)\n",
    "\n",
    "find('folder')"
   ]
  },
  {
   "cell_type": "markdown",
   "metadata": {},
   "source": [
    "3. Indiquer le nombre de fichiers et le nombre de répertoires. (Comme si on exécutait la commande find . -type f | wc -l ; find . -type d | wc -l)"
   ]
  },
  {
   "cell_type": "code",
   "execution_count": 5,
   "metadata": {},
   "outputs": [
    {
     "name": "stdout",
     "output_type": "stream",
     "text": [
      "number of files : 7\n",
      "number of directories : 5\n"
     ]
    }
   ],
   "source": [
    "import os\n",
    "def find_count(root):\n",
    "    nfile = ndir = 0\n",
    "    for root, dirs, files in os.walk(root):\n",
    "        nfile += len(files)\n",
    "        ndir += len(dirs)\n",
    "    print(\"number of files : %d\" % nfile)\n",
    "    print(\"number of directories : %d\" % ndir)\n",
    "    \n",
    "find_count('folder')"
   ]
  },
  {
   "cell_type": "markdown",
   "metadata": {},
   "source": [
    "4. Indiquer le nombre de fichiers, le nombre de répertoires, et le nombre de liens symboliques. (Si il y a un lien toto qui pointe vers le répertoire truc, alors toto compte uniquement comme un lien symbolique -- pas comme un répertoire ; et il ne faut pas descendre dans ses sous-répertoires.)"
   ]
  },
  {
   "cell_type": "code",
   "execution_count": 6,
   "metadata": {},
   "outputs": [
    {
     "name": "stdout",
     "output_type": "stream",
     "text": [
      "number of files : 7\n",
      "number of directories : 4\n",
      "number of symlinks : 1\n"
     ]
    }
   ],
   "source": [
    "def find_count2(root):\n",
    "    nfile = ndir = nsym = 0\n",
    "    for root, dirs, files in os.walk(root):\n",
    "        for directory in dirs:\n",
    "            if os.path.islink(root+os.path.sep+directory):\n",
    "                nsym += 1\n",
    "            else:\n",
    "                ndir += 1\n",
    "        for file in files:\n",
    "            if os.path.islink(os.path.join(root, file)):\n",
    "                nsym += 1\n",
    "            else:\n",
    "                nfile += 1\n",
    "    print(\"number of files : \" + str(nfile))\n",
    "    print(\"number of directories : \" + str(ndir))\n",
    "    print(\"number of symlinks : \" + str(nsym))\n",
    "    \n",
    "find_count2(\"folder\")"
   ]
  },
  {
   "cell_type": "markdown",
   "metadata": {},
   "source": [
    "5. Indiquer les mêmes nombres, mais en différenciant les éléments « publics » et les éléments « privés ». Un fichier est considéré comme « privé » si le groupe propriétaire et les autres utilisateurs n'ont aucun droit dessus ; sinon il est public."
   ]
  },
  {
   "cell_type": "code",
   "execution_count": 7,
   "metadata": {},
   "outputs": [
    {
     "name": "stdout",
     "output_type": "stream",
     "text": [
      "folder\\another_folder\\next_folder\\last_folder :\n",
      "Files: \t\t[public: 7]\t[private: 0]\n",
      "Dirs: \t\t[public: 4]\t[private: 0]\n",
      "Symlinks:\t[public: 1]\t[private: 0]\n",
      ".\\folder\\another_folder\\next_folder\\last_folder :\n",
      "Files: \t\t[public: 9]\t[private: 0]\n",
      "Dirs: \t\t[public: 6]\t[private: 0]\n",
      "Symlinks:\t[public: 1]\t[private: 0]\n"
     ]
    }
   ],
   "source": [
    "def count_stats(root):\n",
    "    nprivfile = npubfile = nprivdir = npubdir = nprivsym = npubsym = 0\n",
    "    for root, dirs, files in os.walk(root):\n",
    "        for d in dirs:\n",
    "            try:\n",
    "                path = os.path.join(root, d)\n",
    "                is_public = os.stat(path).st_mode%64 # public if it is not 0\n",
    "                if os.path.islink(path):\n",
    "                    if is_public: npubsym += 1\n",
    "                    else: nprivsym += 1\n",
    "                else:\n",
    "                    if is_public: npubdir += 1\n",
    "                    else: nprivdir += 1\n",
    "            except Exception as e: print(e)\n",
    "        for f in files:\n",
    "            try:\n",
    "                path = os.path.join(root, f)\n",
    "                is_public = os.stat(path).st_mode%64 # public if it is not 0\n",
    "                if os.path.islink(path):\n",
    "                    if is_public: npubsym += 1\n",
    "                    else: nprivsym += 1\n",
    "                else:\n",
    "                    if is_public: npubfile += 1\n",
    "                    else: nprivfile += 1\n",
    "            except Exception as e: print(e)\n",
    "    print(\"%s :\"%root)\n",
    "    print(\"Files: \\t\\t[public: %d]\\t[private: %d]\" % (npubfile, nprivfile))\n",
    "    print(\"Dirs: \\t\\t[public: %d]\\t[private: %d]\" % (npubdir, nprivdir))\n",
    "    print(\"Symlinks:\\t[public: %d]\\t[private: %d]\" % (npubsym, nprivsym))\n",
    "                    \n",
    "count_stats('folder')\n",
    "count_stats('.')"
   ]
  },
  {
   "cell_type": "markdown",
   "metadata": {},
   "source": [
    "### **Exercice 2 (modules os, sys, hashlib)**\n",
    "Il arrive souvent qu'un même fichier se retrouve présent avec des noms différents à divers emplacements. On peut, par exemple, avoir téléchargé plusieurs fois un même mp3 ou un document pdf, depuis des sites différents qui l'auront nommé différemment, et placé dans différents sous-répertoires.\n",
    "\n",
    "Il peut être coûteux de comparer deux à deux de gros fichiers binaires, mais une fonction de hachage comme md5 ou sha1 permet de détecter les fichiers identiques avec une quasi-certitude (module hashlib). On demande d'écrire un script duplicates qui prend comme paramètres optionnels une extension de nom de fichier ( -e, --extension, defaut : None) un répertoire ( -d, --directory, défaut : répertoire courant) et un fichier de sortie (-o, --output, défaut : sortie standard), et renvoie les chemins complets vers les groupes de fichiers identiques, une ligne par fichier, et une ligne vide entre chaque groupe.\n",
    "\n",
    "Par exemple :\n",
    "\n",
    "```\n",
    "jyt@drobie:~/monge> duplicates -e pdf -d tmp\n",
    "\n",
    "tmp/f38w5635114j1957.pdf\n",
    "tmp/qdesar.pdf\n",
    "\n",
    "tmp/brunet.pdf\n",
    "tmp/PhysRevE_68_041101.pdf\n",
    "\n",
    "tmp/eis.pdf\n",
    "tmp/JEDP_1999____A15_0.pdf\n",
    "\n",
    "tmp/exos07.pdf\n",
    "tmp/exos07-1.pdf\n",
    "tmp/exos07-2.pdf\n",
    "\n",
    "tmp/kshg21g4.pdf\n",
    "tmp/be9kd6kh.pdf\n",
    "tmp/uq8uiawn.pdf\n",
    "```"
   ]
  },
  {
   "cell_type": "code",
   "execution_count": 2,
   "metadata": {},
   "outputs": [
    {
     "name": "stderr",
     "output_type": "stream",
     "text": [
      "ERROR:root:Internal Python error in the inspect module.\n",
      "Below is the traceback from this internal error.\n",
      "\n"
     ]
    },
    {
     "name": "stdout",
     "output_type": "stream",
     "text": [
      "duplicate.py: Program that searches for duplicate files.\n",
      "\n",
      "Usage: duplicate.py [-h] [--help] [-e] [--extension] [extension] [-d] [--directory] [root] [-o] [--output] [output_file]\n",
      "\n",
      "Traceback (most recent call last):\n",
      "  File \"<ipython-input-2-7b4c2d04148a>\", line 18, in <module>\n",
      "    optlist, arglist = getopt.getopt(sys.argv[1:], 'he:d:o:', ['help', '--extension=', '--directory=', 'output='])\n",
      "  File \"E:\\Programmes\\Anaconda\\lib\\getopt.py\", line 95, in getopt\n",
      "    opts, args = do_shorts(opts, args[0][1:], shortopts, args[1:])\n",
      "  File \"E:\\Programmes\\Anaconda\\lib\\getopt.py\", line 195, in do_shorts\n",
      "    if short_has_arg(opt, shortopts):\n",
      "  File \"E:\\Programmes\\Anaconda\\lib\\getopt.py\", line 211, in short_has_arg\n",
      "    raise GetoptError(_('option -%s not recognized') % opt, opt)\n",
      "getopt.GetoptError: option -f not recognized\n",
      "\n",
      "During handling of the above exception, another exception occurred:\n",
      "\n",
      "Traceback (most recent call last):\n",
      "  File \"E:\\Programmes\\Anaconda\\lib\\site-packages\\IPython\\core\\interactiveshell.py\", line 3331, in run_code\n",
      "    exec(code_obj, self.user_global_ns, self.user_ns)\n",
      "  File \"<ipython-input-2-7b4c2d04148a>\", line 20, in <module>\n",
      "    usage()\n",
      "  File \"<ipython-input-2-7b4c2d04148a>\", line 12, in usage\n",
      "    sys.exit()\n",
      "SystemExit\n",
      "\n",
      "During handling of the above exception, another exception occurred:\n",
      "\n",
      "Traceback (most recent call last):\n",
      "  File \"E:\\Programmes\\Anaconda\\lib\\site-packages\\IPython\\core\\ultratb.py\", line 1151, in get_records\n",
      "    return _fixed_getinnerframes(etb, number_of_lines_of_context, tb_offset)\n",
      "  File \"E:\\Programmes\\Anaconda\\lib\\site-packages\\IPython\\core\\ultratb.py\", line 319, in wrapped\n",
      "    return f(*args, **kwargs)\n",
      "  File \"E:\\Programmes\\Anaconda\\lib\\site-packages\\IPython\\core\\ultratb.py\", line 353, in _fixed_getinnerframes\n",
      "    records = fix_frame_records_filenames(inspect.getinnerframes(etb, context))\n",
      "  File \"E:\\Programmes\\Anaconda\\lib\\inspect.py\", line 1502, in getinnerframes\n",
      "    frameinfo = (tb.tb_frame,) + getframeinfo(tb, context)\n",
      "AttributeError: 'tuple' object has no attribute 'tb_frame'\n"
     ]
    },
    {
     "ename": "SystemExit",
     "evalue": "",
     "output_type": "error",
     "traceback": [
      "An exception has occurred, use %tb to see the full traceback.\n",
      "\u001b[1;31m---------------------------------------------------------------------------\u001b[0m",
      "\nDuring handling of the above exception, another exception occurred:\n",
      "\u001b[1;31mSystemExit\u001b[0m\n"
     ]
    },
    {
     "name": "stderr",
     "output_type": "stream",
     "text": [
      "E:\\Programmes\\Anaconda\\lib\\site-packages\\IPython\\core\\interactiveshell.py:3339: UserWarning: To exit: use 'exit', 'quit', or Ctrl-D.\n",
      "  warn(\"To exit: use 'exit', 'quit', or Ctrl-D.\", stacklevel=1)\n"
     ]
    }
   ],
   "source": [
    "#! /usr/local/bin/python3\n",
    "'''duplicate.py: Program that searches for duplicate files.\n",
    "\n",
    "Usage: duplicate.py [-h] [--help] [-e] [--extension] [extension] [-d] [--directory] [root] [-o] [--output] [output_file]\n",
    "'''\n",
    "\n",
    "import os, sys, getopt, hashlib\n",
    "\n",
    "def usage():\n",
    "\t'Print usage doc and exit.'\n",
    "\tprint (__doc__)\n",
    "\tsys.exit()\n",
    "\n",
    "\n",
    "if __name__ == '__main__':\n",
    "\n",
    "\ttry:\n",
    "\t\toptlist, arglist = getopt.getopt(sys.argv[1:], 'he:d:o:', ['help', '--extension=', '--directory=', 'output='])\n",
    "\texcept:\n",
    "\t\tusage()\n",
    "\n",
    "\tif not optlist:\n",
    "\t\tusage()\n",
    "\n",
    "\text = root = \"\"\n",
    "\tfor opt, arg in optlist:\n",
    "\t\tif opt in ['-h', '--help']: usage()\n",
    "\t\telif opt in ['-e', '--extension']: ext = arg\n",
    "\t\telif opt in ['-d', '--directory']: root = arg\n",
    "\t\telif opt in ['-o', '--output']: output = arg\n",
    "\t\n",
    "\tduplicates = {}\n",
    "\n",
    "\tfor root, dirs, files in os.walk(root):\n",
    "\t\tfor file in files:\n",
    "\t\t\tpath = os.path.join(root, file)\n",
    "\t\t\ttry:\n",
    "\t\t\t\twith open(path, 'rb') as f:\n",
    "\t\t\t\t\tmd5 = hashlib.md5(f.read()).hexdigest()\n",
    "\t\t\t\t\tif md5 in duplicates:\n",
    "\t\t\t\t\t\tduplicates[md5].append(path)\n",
    "\t\t\t\t\telse:\n",
    "\t\t\t\t\t\tduplicates[md5] = [path]\n",
    "\t\t\texcept Exception as e: print(e)\n",
    "\n",
    "\tfor md5, path_list in duplicates.items():\n",
    "\t\tif len(path_list) > 1:\n",
    "\t\t\tprint()\n",
    "\t\t\tfor path in path_list:\n",
    "\t\t\t\tprint(path)"
   ]
  },
  {
   "cell_type": "markdown",
   "metadata": {},
   "source": [
    "### **Exercice 3 (module re)**\n",
    "La première étape de la construction d'un correcteur orthographique consiste à écrire une fonction qui vérifie si un mot est dans le dictionnaire (cf. TD1). La seconde consiste à proposer des corrections pour les mots qui n'y sont pas.\n",
    "\n",
    "Deux mots u et v sont dits à distance d'édition 1 s'ils diffèrent par remplacement, insertion ou suppression d'un caractère.\n",
    "\n",
    "Ecrire une fonction lookup(w) qui prend comme argument un mot arbitraire w et retourne la liste des mots du dictionnaire qui sont à distance 1 (ou 0) de w. On utilisera une expression régulière judicieusement construite. On pourra reprendre le dictionnaire du TD1.\n",
    "\n",
    "Par exemple, on devrait avoir\n",
    "\n",
    "```\n",
    ">>> for x in lookup('ais'): print x,\n",
    "... \n",
    "agis ai aie aies ail ails air airs ais aïs aise aisé aisy ait amis anis ans\n",
    "apis ars as avis axis bais bis dais dis fais fis gais gis hais jais lais lis\n",
    "mais mis nais ois pais pis rais ris sais sis tais vais vis\n",
    ">>> \n",
    "```"
   ]
  },
  {
   "cell_type": "code",
   "execution_count": 3,
   "metadata": {},
   "outputs": [
    {
     "ename": "SyntaxError",
     "evalue": "invalid syntax (<ipython-input-3-3ea74646d1e5>, line 3)",
     "output_type": "error",
     "traceback": [
      "\u001b[1;36m  File \u001b[1;32m\"<ipython-input-3-3ea74646d1e5>\"\u001b[1;36m, line \u001b[1;32m3\u001b[0m\n\u001b[1;33m    candidates = [x for x in fr_dict.readlines() if len(x) >= len(word) - 1 && len(x) <= len(word)+1]\u001b[0m\n\u001b[1;37m                                                                             ^\u001b[0m\n\u001b[1;31mSyntaxError\u001b[0m\u001b[1;31m:\u001b[0m invalid syntax\n"
     ]
    }
   ],
   "source": [
    "def lookup(word):\n",
    "    with open('liste.de.mots.francais.frgut.txt', 'r') as fr_dict:\n",
    "        candidates = [x for x in fr_dict.readlines() if len(x) >= len(word) - 1 && len(x) <= len(word)+1]\n",
    "    return candidates\n",
    "\n",
    "print(lookup('hello'))"
   ]
  }
 ],
 "metadata": {
  "kernelspec": {
   "display_name": "Python 3",
   "language": "python",
   "name": "python3"
  },
  "language_info": {
   "codemirror_mode": {
    "name": "ipython",
    "version": 3
   },
   "file_extension": ".py",
   "mimetype": "text/x-python",
   "name": "python",
   "nbconvert_exporter": "python",
   "pygments_lexer": "ipython3",
   "version": "3.7.6"
  }
 },
 "nbformat": 4,
 "nbformat_minor": 4
}

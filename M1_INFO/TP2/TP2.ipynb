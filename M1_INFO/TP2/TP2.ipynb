{
 "cells": [
  {
   "cell_type": "markdown",
   "metadata": {},
   "source": [
    "# Python TD2\n",
    "\n",
    "## Chaînes de caractères, listes, dictionnaires ...\n",
    "\n",
    "***Exercice 1***\n",
    "Quelques one-liners pour s'échauffer. Le but de l'exercice est d'explorer la documentation pour trouver le moyen de coder ces fonctions en une ligne.\n",
    "\n",
    "Ecrire une fonction is_palindrome qui reconnaît si un mot est un palindrome."
   ]
  },
  {
   "cell_type": "code",
   "execution_count": 25,
   "metadata": {},
   "outputs": [
    {
     "name": "stdout",
     "output_type": "stream",
     "text": [
      "True\n",
      "False\n",
      "ressasser\n",
      "RESSASSER\n",
      "False\n",
      "coucou\n",
      "COUCOU\n",
      "False\n"
     ]
    }
   ],
   "source": [
    "def is_palindrome(word):\n",
    "    return word == word[::-1]\n",
    "\n",
    "print(is_palindrome(\"ressasser\"))\n",
    "print(is_palindrome(\"coucou\"))"
   ]
  },
  {
   "cell_type": "markdown",
   "metadata": {},
   "source": [
    "Ecrire une fonction is_pangram qui reconnaît si une phrase (sans lettres accentuées, par exemple en anglais) est un pangramme, c'est à dire, contient au moins une fois chaque lettre de l'alphabet (exemples : The quick brown fox jumps over the lazy dog, ou encore Portez ce vieux whisky au juge blond qui fume."
   ]
  },
  {
   "cell_type": "code",
   "execution_count": 7,
   "metadata": {},
   "outputs": [
    {
     "name": "stdout",
     "output_type": "stream",
     "text": [
      "True\n",
      "False\n",
      "True\n"
     ]
    }
   ],
   "source": [
    "import string\n",
    "\n",
    "def is_pangram(msg):\n",
    "    return set(msg.lower()) >= set(string.ascii_lowercase)\n",
    "\n",
    "print(is_pangram(\"The quick brown fox jumps over the lazy dog\"))\n",
    "print(is_pangram(\"Hello World\"))\n",
    "print(is_pangram(\"Portez ce vieux whisky au juge blond qui fume\"))"
   ]
  },
  {
   "cell_type": "markdown",
   "metadata": {},
   "source": [
    "Ecrire une fonction remove_adjacent qui prend en argument une liste et élimine les répétitions consécutives d'un même élément, par exemple pour [1,2,2,3,3,1] on doit obtenir [1,2,3,1]."
   ]
  },
  {
   "cell_type": "code",
   "execution_count": 42,
   "metadata": {},
   "outputs": [
    {
     "data": {
      "text/plain": [
       "[1, 2, 3, 1]"
      ]
     },
     "execution_count": 42,
     "metadata": {},
     "output_type": "execute_result"
    }
   ],
   "source": [
    "def remove_adjacent(lst):\n",
    "    return [x for (i, x) in enumerate(lst) if i < len(lst)-1 and x != lst[i+1]] + lst[:1]\n",
    "    \n",
    "remove_adjacent([1,2,2,3,3,1])"
   ]
  },
  {
   "cell_type": "markdown",
   "metadata": {},
   "source": [
    "Ecrire une fonction digits_sum qui prend comme argument un entier et renvoie la somme de ses chiffres. "
   ]
  },
  {
   "cell_type": "code",
   "execution_count": 46,
   "metadata": {},
   "outputs": [
    {
     "name": "stdout",
     "output_type": "stream",
     "text": [
      "9\n",
      "19\n"
     ]
    }
   ],
   "source": [
    "def digits_sum(nb):\n",
    "    return sum([int(x) for x in str(nb)])\n",
    "\n",
    "print(digits_sum(54))\n",
    "print(digits_sum(667))"
   ]
  },
  {
   "cell_type": "markdown",
   "metadata": {},
   "source": [
    "***Exercice 2*** Les lycéens aiment bien occuper leurs cours de maths en cherchant des messages qui peuvent s'écrire en lisant à l'envers l'afficheur de la calculatrice, comme par exemple\n",
    "\n",
    "ou encore , ou même\n",
    "obtenus respectivement en écrivant 378151771, 5318804 et 371830.\n",
    "Pour leur faciliter la tâche, écrivez un programme qui prend en entrée un dictionnaire comme celui-ci (ou un autre de votre choix, mais le format et l'encodage ne seront pas forcément les mêmes), et qui produit la liste des mots qui peuvent s'écrire ainsi.\n",
    "\n",
    "On pourra utiliser 1=I, 2=Z, 3=E, 4=h, 5=S, (6=g), 7=L, 8=B, 9=G, 0=D ou O.\n"
   ]
  },
  {
   "cell_type": "code",
   "execution_count": 4,
   "metadata": {
    "scrolled": true
   },
   "outputs": [
    {
     "name": "stdout",
     "output_type": "stream",
     "text": [
      "['83193', '831935', '837', '83793', '837935', '83773', '837735', '8181', '81815', '81873', '818735', '8103', '81035', '813773', '8137735', '81973', '819735', '819732', '8197132', '8173', '81735', '81732', '817132', '8177', '81773', '817735', '81775', '815', '81581773', '815817735', '8153', '81535', '81532', '815132', '81553', '815535', '815532', '8155132', '8730', '87305', '873553', '8735535', '8735532', '87355132', '03', '035', '03553773', '035537735', '035537732', '0355377132', '03551773', '035517735', '035517732', '0355177132', '09', '013537', '0135375', '015', '0153', '01535', '015132', '01553', '015535', '0155132', '07', '34', '3773', '37735', '35', '3553', '35535', '937', '93732', '937132', '9375', '93553', '935535', '941703', '9417035', '91703', '917035', '91773', '917735', '915', '91532', '915132', '971553', '9715535', '9715532', '97155132', '41', '413', '4135', '41553', '415535', '415532', '4155132', '1815', '103', '1035', '17', '177151873', '1771518735', '175', '73', '73837', '738375', '7395', '731', '735', '71', '7183773', '71837735', '71837732', '718377132', '713', '7130', '71305', '7135', '713553', '7135535', '7132', '7193', '71935', '71913', '719135', '71132', '715', '7153', '71535', '71532', '7151873', '71518735', '715132', '71553', '715535', '715532', '7155132', '53', '531973', '5319735', '531773', '5317735', '53123', '537', '53773', '537735', '537732', '5377132', '5375', '535', '5355173', '53551735', '51', '5130', '51973', '519735', '517', '5175', '515', '5153', '51535', '2377193', '23771935', '2183', '21835', '21832', '218132', '219', '2195', '2121', '21215']\n"
     ]
    }
   ],
   "source": [
    "def string_to_numbers(input_file):\n",
    "    t = str.maketrans(\"IZEHSGLBGD\", \"1234567890\")\n",
    "    with open(input_file, encoding='latin1') as file:\n",
    "        return [line.rstrip(\"\\n\").upper().translate(t) for line in file if line.rstrip(\"\\n\").upper().translate(t).isnumeric()]\n",
    "\n",
    "print(string_to_numbers(\"liste.de.mots.francais.frgut.txt\"))"
   ]
  },
  {
   "cell_type": "markdown",
   "metadata": {},
   "source": [
    "Sur le même principe, on peut programmer un dictionnaire de scrabble : étant donnée une chaîne quelconque (majuscules non accentuées), trouver un mot le plus long possible formé avec ses lettres :\n",
    "\n",
    "```\n",
    ">>> lookup('XWRDYTRERASZ')\n",
    "['DARTRES', 'RETARDS', 'STEWARD']\n",
    ">>> \n",
    "```"
   ]
  },
  {
   "cell_type": "code",
   "execution_count": 44,
   "metadata": {},
   "outputs": [
    {
     "name": "stdout",
     "output_type": "stream",
     "text": [
      "['extraterrestres']\n"
     ]
    }
   ],
   "source": [
    "def lookup(dictionary, rack):\n",
    "    with open(dictionary, 'p' encoding='latin1') as file:\n",
    "        lst = [word.rstrip() for word in file if all(x.upper() in rack for x in word.rstrip())]\n",
    "        return [x for x in lst if len(x) == len(max(lst, key=len))]\n",
    "\n",
    "print(lookup(\"liste.de.mots.francais.frgut.txt\", 'XWRDYTRERASZ'))"
   ]
  },
  {
   "cell_type": "code",
   "execution_count": 25,
   "metadata": {},
   "outputs": [
    {
     "name": "stdout",
     "output_type": "stream",
     "text": [
      "['e', 'h', 'l', 'l', 'o']\n",
      "['e', 'e', 'h', 'i', 'l', 'l', 'o', 't', 'y']\n"
     ]
    },
    {
     "data": {
      "text/plain": [
       "True"
      ]
     },
     "execution_count": 25,
     "metadata": {},
     "output_type": "execute_result"
    }
   ],
   "source": [
    "print(sorted('hello'))\n",
    "print(sorted('elolityeh'))\n",
    "\n",
    "all(x in 'elolityeh' for x in 'hello')"
   ]
  },
  {
   "cell_type": "markdown",
   "metadata": {},
   "source": [
    "**Exercice 3** Il pîaart que puor la lctreue, l'orrde des lrttees à l'iétunreir des mots n'a acnuue itnpocmare.\n",
    "La sulee chose qui cptmoe est que la pemièrre et la dneèirre lttree seonit à leur pclae.\n",
    "\n",
    "Écrire un programme permettant de tester cette théorie.\n",
    "\n",
    "Il devra prendre en entrée un fichier \"texte\" (disons, pour commencer, du français en ASCII étendu 'latin-1' ou en 'utf-8')\n",
    "et mélanger aléatoirement les lettres à l'intérieur des mots en respectant la ponctuation et la mise en page.\n",
    "\n",
    "Une fois le programme fonctionnel, on étudiera la possibilité de traiter des fichiers utilisant des encodages de caractères différents."
   ]
  },
  {
   "cell_type": "code",
   "execution_count": 209,
   "metadata": {},
   "outputs": [],
   "source": [
    "from random import shuffle\n",
    "from re import split\n",
    "\n",
    "def shuffle_letters(input_file, output_file, encoding):\n",
    "    with open(input_file, 'r', encoding=encoding) as input_f:\n",
    "        with open(output_file, 'w+', encoding=encoding) as output_f:\n",
    "            for line in input_f:\n",
    "                for word in re.split(\"(\\W+)\", line):\n",
    "                    new=word\n",
    "                    if len(word) > 3:\n",
    "                        s = list(word)\n",
    "                        inner = s[1:len(s)-1]\n",
    "                        shuffle(inner)\n",
    "                        new=s[0]+''.join(inner)+s[len(s)-1]\n",
    "                    output_f.write(''.join(new))\n",
    "\n",
    "shuffle_letters('13951-8.txt', '13951-8_2.txt', 'latin1')"
   ]
  },
  {
   "cell_type": "markdown",
   "metadata": {},
   "source": [
    "Que faudrait-il faire pour brouiller de la même manière une page html en conservant sa mise en page ?\n",
    "\n",
    "*Il faudra reconnaître les chaînes de caractères comprises dans les balises <> et ne pas les traiter.*"
   ]
  }
 ],
 "metadata": {
  "kernelspec": {
   "display_name": "Python 3",
   "language": "python",
   "name": "python3"
  },
  "language_info": {
   "codemirror_mode": {
    "name": "ipython",
    "version": 3
   },
   "file_extension": ".py",
   "mimetype": "text/x-python",
   "name": "python",
   "nbconvert_exporter": "python",
   "pygments_lexer": "ipython3",
   "version": "3.7.6"
  }
 },
 "nbformat": 4,
 "nbformat_minor": 2
}
